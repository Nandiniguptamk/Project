{
  "nbformat": 4,
  "nbformat_minor": 0,
  "metadata": {
    "colab": {
      "provenance": [],
      "authorship_tag": "ABX9TyOc9RiU9UzX31Dxd5E9kR+y",
      "include_colab_link": true
    },
    "kernelspec": {
      "name": "python3",
      "display_name": "Python 3"
    },
    "language_info": {
      "name": "python"
    }
  },
  "cells": [
    {
      "cell_type": "markdown",
      "metadata": {
        "id": "view-in-github",
        "colab_type": "text"
      },
      "source": [
        "<a href=\"https://colab.research.google.com/github/Nandiniguptamk/Project/blob/main/workation_prediction.ipynb\" target=\"_parent\"><img src=\"https://colab.research.google.com/assets/colab-badge.svg\" alt=\"Open In Colab\"/></a>"
      ]
    },
    {
      "cell_type": "code",
      "execution_count": null,
      "metadata": {
        "id": "siwBGwy-tHrn"
      },
      "outputs": [],
      "source": []
    },
    {
      "cell_type": "markdown",
      "source": [
        "In this competition, one has to use the knowledge of machine learning, deep learning, and model building to predict the price per person for your next workstation trip. The data has more than 18000+ rows of different packages with the details like start location, hotel type, cost per person, destination, Itinerary, and many more."
      ],
      "metadata": {
        "id": "qs8L6QSHtJkG"
      }
    },
    {
      "cell_type": "markdown",
      "source": [],
      "metadata": {
        "id": "VC0LLMzEtVol"
      }
    },
    {
      "cell_type": "code",
      "source": [
        "# importing libraries\n",
        "import numpy as np\n",
        "import pandas as pd\n",
        "import matplotlib.pyplot as plt\n",
        "import seaborn as sns\n",
        "sns.set_style(\"whitegrid\")\n",
        "import warnings\n",
        "warnings.filterwarnings(\"ignore\")\n",
        "pd.set_option(\"display.max_columns\",100)\n"
      ],
      "metadata": {
        "id": "mQAWAHIGtbBG"
      },
      "execution_count": 2,
      "outputs": []
    },
    {
      "cell_type": "code",
      "source": [
        "train=pd.read_csv(\"/content/Train.csv\")"
      ],
      "metadata": {
        "id": "fgerSl2Cul3t"
      },
      "execution_count": 3,
      "outputs": []
    },
    {
      "cell_type": "code",
      "source": [
        "test=pd.read_csv(\"/content/Test.csv\")"
      ],
      "metadata": {
        "id": "wgOhuPo9vNbB"
      },
      "execution_count": 12,
      "outputs": []
    },
    {
      "cell_type": "code",
      "source": [
        "train.head()"
      ],
      "metadata": {
        "colab": {
          "base_uri": "https://localhost:8080/",
          "height": 590
        },
        "id": "zCK3ViG8vYAr",
        "outputId": "278d0640-1422-475c-f28e-090a343f5993"
      },
      "execution_count": 13,
      "outputs": [
        {
          "output_type": "execute_result",
          "data": {
            "text/plain": [
              "                            Uniq Id  \\\n",
              "0  e788ab76d9d8cf1e6ed2f139645ca5d1   \n",
              "1  178f892630ce3e335a5a41d5d83937fd   \n",
              "2  f060f2954840503cc2fdaf495357b7df   \n",
              "3  32a19a6c171e67448f2346da46c619dc   \n",
              "4  107b068aa0ca03bc6248966f594d105f   \n",
              "\n",
              "                                   Package Name Package Type  \\\n",
              "0  Best of Shimla and Manali Holiday from Delhi     Standard   \n",
              "1                       Kashmir Valley vacation      Premium   \n",
              "2       Might of Mewar- Udaipur and Chittorgarh       Luxury   \n",
              "3          Colorful Kerala ( Romantic Getaway )      Premium   \n",
              "4                   A Week In Bangkok & Pattaya      Premium   \n",
              "\n",
              "                                   Destination  \\\n",
              "0           New Delhi|Shimla|Manali|Chandigarh   \n",
              "1                   Srinagar|Pahalgam|Srinagar   \n",
              "2                          Udaipur|Chittorgarh   \n",
              "3  Munnar|Kumarakom|Allepey|Kovalam and Poovar   \n",
              "4                              Pattaya|Bangkok   \n",
              "\n",
              "                                           Itinerary  \\\n",
              "0  1N New Delhi . 2N Shimla . 2N Manali . 1N Chan...   \n",
              "1            1N Srinagar . 2N Pahalgam . 1N Srinagar   \n",
              "2                        2N Udaipur . 1N Chittorgarh   \n",
              "3  2N Munnar . 1N Kumarakom . 1N Allepey . 2N Kov...   \n",
              "4                            4N Pattaya . 3N Bangkok   \n",
              "\n",
              "                                Places Covered Travel Date  \\\n",
              "0           New Delhi|Shimla|Manali|Chandigarh  30-07-2021   \n",
              "1                   Srinagar|Pahalgam|Srinagar  08-12-2021   \n",
              "2                          Udaipur|Chittorgarh  26-04-2021   \n",
              "3  Munnar|Kumarakom|Allepey|Kovalam and Poovar  27-08-2021   \n",
              "4                              Pattaya|Bangkok  12-12-2021   \n",
              "\n",
              "                                       Hotel Details Start City  \\\n",
              "0                                      Not Available     Mumbai   \n",
              "1  The Orchard Retreat & Spa:4.6|WelcomHotel Pine...  New Delhi   \n",
              "2       The Ananta:4.4|juSTa Lake Nahargarh Palace:4  New Delhi   \n",
              "3  Elixir Hills Suites Resort & Spa-MMT Holidays ...  New Delhi   \n",
              "4  Dusit Thani Pattaya - MMT Special:4.5|Amari Wa...  New Delhi   \n",
              "\n",
              "           Airline  Flight Stops  Meals  \\\n",
              "0    Not Available             2      3   \n",
              "1    IndiGo|IndiGo             0      5   \n",
              "2           IndiGo             0      4   \n",
              "3           IndiGo             0      5   \n",
              "4  Spicejet|Go Air             0      5   \n",
              "\n",
              "                          Sightseeing Places Covered  \\\n",
              "0                                      Not Available   \n",
              "1   Dal Lake | Avantipura Ruins | Mughal Gardens ...   \n",
              "2   Lake Pichola | Jag Mandir Palace | Saheliyon ...   \n",
              "3   Mattupetty Dam | Echo Point | Tata Tea Museum...   \n",
              "4   Coral Island Tour with Indian Lunch, Join Spe...   \n",
              "\n",
              "                                  Cancellation Rules  Per Person Price  \n",
              "0                                      Not Available           11509.0  \n",
              "1  Cancellation any time after making the 1st pay...           22485.5  \n",
              "2  Cancellation any time after making the 1st pay...           12421.5  \n",
              "3  Cancellation any time after making the 1st pay...           35967.0  \n",
              "4  Cancellation any time after making the 1st pay...           25584.0  "
            ],
            "text/html": [
              "\n",
              "  <div id=\"df-d1312b1f-2094-47c4-956b-8d46eebd4bcd\" class=\"colab-df-container\">\n",
              "    <div>\n",
              "<style scoped>\n",
              "    .dataframe tbody tr th:only-of-type {\n",
              "        vertical-align: middle;\n",
              "    }\n",
              "\n",
              "    .dataframe tbody tr th {\n",
              "        vertical-align: top;\n",
              "    }\n",
              "\n",
              "    .dataframe thead th {\n",
              "        text-align: right;\n",
              "    }\n",
              "</style>\n",
              "<table border=\"1\" class=\"dataframe\">\n",
              "  <thead>\n",
              "    <tr style=\"text-align: right;\">\n",
              "      <th></th>\n",
              "      <th>Uniq Id</th>\n",
              "      <th>Package Name</th>\n",
              "      <th>Package Type</th>\n",
              "      <th>Destination</th>\n",
              "      <th>Itinerary</th>\n",
              "      <th>Places Covered</th>\n",
              "      <th>Travel Date</th>\n",
              "      <th>Hotel Details</th>\n",
              "      <th>Start City</th>\n",
              "      <th>Airline</th>\n",
              "      <th>Flight Stops</th>\n",
              "      <th>Meals</th>\n",
              "      <th>Sightseeing Places Covered</th>\n",
              "      <th>Cancellation Rules</th>\n",
              "      <th>Per Person Price</th>\n",
              "    </tr>\n",
              "  </thead>\n",
              "  <tbody>\n",
              "    <tr>\n",
              "      <th>0</th>\n",
              "      <td>e788ab76d9d8cf1e6ed2f139645ca5d1</td>\n",
              "      <td>Best of Shimla and Manali Holiday from Delhi</td>\n",
              "      <td>Standard</td>\n",
              "      <td>New Delhi|Shimla|Manali|Chandigarh</td>\n",
              "      <td>1N New Delhi . 2N Shimla . 2N Manali . 1N Chan...</td>\n",
              "      <td>New Delhi|Shimla|Manali|Chandigarh</td>\n",
              "      <td>30-07-2021</td>\n",
              "      <td>Not Available</td>\n",
              "      <td>Mumbai</td>\n",
              "      <td>Not Available</td>\n",
              "      <td>2</td>\n",
              "      <td>3</td>\n",
              "      <td>Not Available</td>\n",
              "      <td>Not Available</td>\n",
              "      <td>11509.0</td>\n",
              "    </tr>\n",
              "    <tr>\n",
              "      <th>1</th>\n",
              "      <td>178f892630ce3e335a5a41d5d83937fd</td>\n",
              "      <td>Kashmir Valley vacation</td>\n",
              "      <td>Premium</td>\n",
              "      <td>Srinagar|Pahalgam|Srinagar</td>\n",
              "      <td>1N Srinagar . 2N Pahalgam . 1N Srinagar</td>\n",
              "      <td>Srinagar|Pahalgam|Srinagar</td>\n",
              "      <td>08-12-2021</td>\n",
              "      <td>The Orchard Retreat &amp; Spa:4.6|WelcomHotel Pine...</td>\n",
              "      <td>New Delhi</td>\n",
              "      <td>IndiGo|IndiGo</td>\n",
              "      <td>0</td>\n",
              "      <td>5</td>\n",
              "      <td>Dal Lake | Avantipura Ruins | Mughal Gardens ...</td>\n",
              "      <td>Cancellation any time after making the 1st pay...</td>\n",
              "      <td>22485.5</td>\n",
              "    </tr>\n",
              "    <tr>\n",
              "      <th>2</th>\n",
              "      <td>f060f2954840503cc2fdaf495357b7df</td>\n",
              "      <td>Might of Mewar- Udaipur and Chittorgarh</td>\n",
              "      <td>Luxury</td>\n",
              "      <td>Udaipur|Chittorgarh</td>\n",
              "      <td>2N Udaipur . 1N Chittorgarh</td>\n",
              "      <td>Udaipur|Chittorgarh</td>\n",
              "      <td>26-04-2021</td>\n",
              "      <td>The Ananta:4.4|juSTa Lake Nahargarh Palace:4</td>\n",
              "      <td>New Delhi</td>\n",
              "      <td>IndiGo</td>\n",
              "      <td>0</td>\n",
              "      <td>4</td>\n",
              "      <td>Lake Pichola | Jag Mandir Palace | Saheliyon ...</td>\n",
              "      <td>Cancellation any time after making the 1st pay...</td>\n",
              "      <td>12421.5</td>\n",
              "    </tr>\n",
              "    <tr>\n",
              "      <th>3</th>\n",
              "      <td>32a19a6c171e67448f2346da46c619dc</td>\n",
              "      <td>Colorful Kerala ( Romantic Getaway )</td>\n",
              "      <td>Premium</td>\n",
              "      <td>Munnar|Kumarakom|Allepey|Kovalam and Poovar</td>\n",
              "      <td>2N Munnar . 1N Kumarakom . 1N Allepey . 2N Kov...</td>\n",
              "      <td>Munnar|Kumarakom|Allepey|Kovalam and Poovar</td>\n",
              "      <td>27-08-2021</td>\n",
              "      <td>Elixir Hills Suites Resort &amp; Spa-MMT Holidays ...</td>\n",
              "      <td>New Delhi</td>\n",
              "      <td>IndiGo</td>\n",
              "      <td>0</td>\n",
              "      <td>5</td>\n",
              "      <td>Mattupetty Dam | Echo Point | Tata Tea Museum...</td>\n",
              "      <td>Cancellation any time after making the 1st pay...</td>\n",
              "      <td>35967.0</td>\n",
              "    </tr>\n",
              "    <tr>\n",
              "      <th>4</th>\n",
              "      <td>107b068aa0ca03bc6248966f594d105f</td>\n",
              "      <td>A Week In Bangkok &amp; Pattaya</td>\n",
              "      <td>Premium</td>\n",
              "      <td>Pattaya|Bangkok</td>\n",
              "      <td>4N Pattaya . 3N Bangkok</td>\n",
              "      <td>Pattaya|Bangkok</td>\n",
              "      <td>12-12-2021</td>\n",
              "      <td>Dusit Thani Pattaya - MMT Special:4.5|Amari Wa...</td>\n",
              "      <td>New Delhi</td>\n",
              "      <td>Spicejet|Go Air</td>\n",
              "      <td>0</td>\n",
              "      <td>5</td>\n",
              "      <td>Coral Island Tour with Indian Lunch, Join Spe...</td>\n",
              "      <td>Cancellation any time after making the 1st pay...</td>\n",
              "      <td>25584.0</td>\n",
              "    </tr>\n",
              "  </tbody>\n",
              "</table>\n",
              "</div>\n",
              "    <div class=\"colab-df-buttons\">\n",
              "\n",
              "  <div class=\"colab-df-container\">\n",
              "    <button class=\"colab-df-convert\" onclick=\"convertToInteractive('df-d1312b1f-2094-47c4-956b-8d46eebd4bcd')\"\n",
              "            title=\"Convert this dataframe to an interactive table.\"\n",
              "            style=\"display:none;\">\n",
              "\n",
              "  <svg xmlns=\"http://www.w3.org/2000/svg\" height=\"24px\" viewBox=\"0 -960 960 960\">\n",
              "    <path d=\"M120-120v-720h720v720H120Zm60-500h600v-160H180v160Zm220 220h160v-160H400v160Zm0 220h160v-160H400v160ZM180-400h160v-160H180v160Zm440 0h160v-160H620v160ZM180-180h160v-160H180v160Zm440 0h160v-160H620v160Z\"/>\n",
              "  </svg>\n",
              "    </button>\n",
              "\n",
              "  <style>\n",
              "    .colab-df-container {\n",
              "      display:flex;\n",
              "      gap: 12px;\n",
              "    }\n",
              "\n",
              "    .colab-df-convert {\n",
              "      background-color: #E8F0FE;\n",
              "      border: none;\n",
              "      border-radius: 50%;\n",
              "      cursor: pointer;\n",
              "      display: none;\n",
              "      fill: #1967D2;\n",
              "      height: 32px;\n",
              "      padding: 0 0 0 0;\n",
              "      width: 32px;\n",
              "    }\n",
              "\n",
              "    .colab-df-convert:hover {\n",
              "      background-color: #E2EBFA;\n",
              "      box-shadow: 0px 1px 2px rgba(60, 64, 67, 0.3), 0px 1px 3px 1px rgba(60, 64, 67, 0.15);\n",
              "      fill: #174EA6;\n",
              "    }\n",
              "\n",
              "    .colab-df-buttons div {\n",
              "      margin-bottom: 4px;\n",
              "    }\n",
              "\n",
              "    [theme=dark] .colab-df-convert {\n",
              "      background-color: #3B4455;\n",
              "      fill: #D2E3FC;\n",
              "    }\n",
              "\n",
              "    [theme=dark] .colab-df-convert:hover {\n",
              "      background-color: #434B5C;\n",
              "      box-shadow: 0px 1px 3px 1px rgba(0, 0, 0, 0.15);\n",
              "      filter: drop-shadow(0px 1px 2px rgba(0, 0, 0, 0.3));\n",
              "      fill: #FFFFFF;\n",
              "    }\n",
              "  </style>\n",
              "\n",
              "    <script>\n",
              "      const buttonEl =\n",
              "        document.querySelector('#df-d1312b1f-2094-47c4-956b-8d46eebd4bcd button.colab-df-convert');\n",
              "      buttonEl.style.display =\n",
              "        google.colab.kernel.accessAllowed ? 'block' : 'none';\n",
              "\n",
              "      async function convertToInteractive(key) {\n",
              "        const element = document.querySelector('#df-d1312b1f-2094-47c4-956b-8d46eebd4bcd');\n",
              "        const dataTable =\n",
              "          await google.colab.kernel.invokeFunction('convertToInteractive',\n",
              "                                                    [key], {});\n",
              "        if (!dataTable) return;\n",
              "\n",
              "        const docLinkHtml = 'Like what you see? Visit the ' +\n",
              "          '<a target=\"_blank\" href=https://colab.research.google.com/notebooks/data_table.ipynb>data table notebook</a>'\n",
              "          + ' to learn more about interactive tables.';\n",
              "        element.innerHTML = '';\n",
              "        dataTable['output_type'] = 'display_data';\n",
              "        await google.colab.output.renderOutput(dataTable, element);\n",
              "        const docLink = document.createElement('div');\n",
              "        docLink.innerHTML = docLinkHtml;\n",
              "        element.appendChild(docLink);\n",
              "      }\n",
              "    </script>\n",
              "  </div>\n",
              "\n",
              "\n",
              "<div id=\"df-af49beb9-05f9-45d1-bdfa-13790eaf4a1a\">\n",
              "  <button class=\"colab-df-quickchart\" onclick=\"quickchart('df-af49beb9-05f9-45d1-bdfa-13790eaf4a1a')\"\n",
              "            title=\"Suggest charts\"\n",
              "            style=\"display:none;\">\n",
              "\n",
              "<svg xmlns=\"http://www.w3.org/2000/svg\" height=\"24px\"viewBox=\"0 0 24 24\"\n",
              "     width=\"24px\">\n",
              "    <g>\n",
              "        <path d=\"M19 3H5c-1.1 0-2 .9-2 2v14c0 1.1.9 2 2 2h14c1.1 0 2-.9 2-2V5c0-1.1-.9-2-2-2zM9 17H7v-7h2v7zm4 0h-2V7h2v10zm4 0h-2v-4h2v4z\"/>\n",
              "    </g>\n",
              "</svg>\n",
              "  </button>\n",
              "\n",
              "<style>\n",
              "  .colab-df-quickchart {\n",
              "      --bg-color: #E8F0FE;\n",
              "      --fill-color: #1967D2;\n",
              "      --hover-bg-color: #E2EBFA;\n",
              "      --hover-fill-color: #174EA6;\n",
              "      --disabled-fill-color: #AAA;\n",
              "      --disabled-bg-color: #DDD;\n",
              "  }\n",
              "\n",
              "  [theme=dark] .colab-df-quickchart {\n",
              "      --bg-color: #3B4455;\n",
              "      --fill-color: #D2E3FC;\n",
              "      --hover-bg-color: #434B5C;\n",
              "      --hover-fill-color: #FFFFFF;\n",
              "      --disabled-bg-color: #3B4455;\n",
              "      --disabled-fill-color: #666;\n",
              "  }\n",
              "\n",
              "  .colab-df-quickchart {\n",
              "    background-color: var(--bg-color);\n",
              "    border: none;\n",
              "    border-radius: 50%;\n",
              "    cursor: pointer;\n",
              "    display: none;\n",
              "    fill: var(--fill-color);\n",
              "    height: 32px;\n",
              "    padding: 0;\n",
              "    width: 32px;\n",
              "  }\n",
              "\n",
              "  .colab-df-quickchart:hover {\n",
              "    background-color: var(--hover-bg-color);\n",
              "    box-shadow: 0 1px 2px rgba(60, 64, 67, 0.3), 0 1px 3px 1px rgba(60, 64, 67, 0.15);\n",
              "    fill: var(--button-hover-fill-color);\n",
              "  }\n",
              "\n",
              "  .colab-df-quickchart-complete:disabled,\n",
              "  .colab-df-quickchart-complete:disabled:hover {\n",
              "    background-color: var(--disabled-bg-color);\n",
              "    fill: var(--disabled-fill-color);\n",
              "    box-shadow: none;\n",
              "  }\n",
              "\n",
              "  .colab-df-spinner {\n",
              "    border: 2px solid var(--fill-color);\n",
              "    border-color: transparent;\n",
              "    border-bottom-color: var(--fill-color);\n",
              "    animation:\n",
              "      spin 1s steps(1) infinite;\n",
              "  }\n",
              "\n",
              "  @keyframes spin {\n",
              "    0% {\n",
              "      border-color: transparent;\n",
              "      border-bottom-color: var(--fill-color);\n",
              "      border-left-color: var(--fill-color);\n",
              "    }\n",
              "    20% {\n",
              "      border-color: transparent;\n",
              "      border-left-color: var(--fill-color);\n",
              "      border-top-color: var(--fill-color);\n",
              "    }\n",
              "    30% {\n",
              "      border-color: transparent;\n",
              "      border-left-color: var(--fill-color);\n",
              "      border-top-color: var(--fill-color);\n",
              "      border-right-color: var(--fill-color);\n",
              "    }\n",
              "    40% {\n",
              "      border-color: transparent;\n",
              "      border-right-color: var(--fill-color);\n",
              "      border-top-color: var(--fill-color);\n",
              "    }\n",
              "    60% {\n",
              "      border-color: transparent;\n",
              "      border-right-color: var(--fill-color);\n",
              "    }\n",
              "    80% {\n",
              "      border-color: transparent;\n",
              "      border-right-color: var(--fill-color);\n",
              "      border-bottom-color: var(--fill-color);\n",
              "    }\n",
              "    90% {\n",
              "      border-color: transparent;\n",
              "      border-bottom-color: var(--fill-color);\n",
              "    }\n",
              "  }\n",
              "</style>\n",
              "\n",
              "  <script>\n",
              "    async function quickchart(key) {\n",
              "      const quickchartButtonEl =\n",
              "        document.querySelector('#' + key + ' button');\n",
              "      quickchartButtonEl.disabled = true;  // To prevent multiple clicks.\n",
              "      quickchartButtonEl.classList.add('colab-df-spinner');\n",
              "      try {\n",
              "        const charts = await google.colab.kernel.invokeFunction(\n",
              "            'suggestCharts', [key], {});\n",
              "      } catch (error) {\n",
              "        console.error('Error during call to suggestCharts:', error);\n",
              "      }\n",
              "      quickchartButtonEl.classList.remove('colab-df-spinner');\n",
              "      quickchartButtonEl.classList.add('colab-df-quickchart-complete');\n",
              "    }\n",
              "    (() => {\n",
              "      let quickchartButtonEl =\n",
              "        document.querySelector('#df-af49beb9-05f9-45d1-bdfa-13790eaf4a1a button');\n",
              "      quickchartButtonEl.style.display =\n",
              "        google.colab.kernel.accessAllowed ? 'block' : 'none';\n",
              "    })();\n",
              "  </script>\n",
              "</div>\n",
              "\n",
              "    </div>\n",
              "  </div>\n"
            ],
            "application/vnd.google.colaboratory.intrinsic+json": {
              "type": "dataframe",
              "variable_name": "train",
              "summary": "{\n  \"name\": \"train\",\n  \"rows\": 21000,\n  \"fields\": [\n    {\n      \"column\": \"Uniq Id\",\n      \"properties\": {\n        \"dtype\": \"string\",\n        \"num_unique_values\": 21000,\n        \"samples\": [\n          \"8fe4c568ab9ae7532a7128ded95c7abc\",\n          \"1cb72c48a6d7c06e098e5a9d5c731b5f\",\n          \"3959e3a8ca6b7d43ea793f0d7a83da0e\"\n        ],\n        \"semantic_type\": \"\",\n        \"description\": \"\"\n      }\n    },\n    {\n      \"column\": \"Package Name\",\n      \"properties\": {\n        \"dtype\": \"category\",\n        \"num_unique_values\": 2204,\n        \"samples\": [\n          \"Experience Trout Fishing in Manali - Volvo Tickets included\",\n          \"Trip to Kalimpong and Darjeeling - Toy Train Special\",\n          \"Jaipur - A Cycling Expedition to Nahargarh Fort (Online)\"\n        ],\n        \"semantic_type\": \"\",\n        \"description\": \"\"\n      }\n    },\n    {\n      \"column\": \"Package Type\",\n      \"properties\": {\n        \"dtype\": \"category\",\n        \"num_unique_values\": 5,\n        \"samples\": [\n          \"Premium\",\n          \"Budget\",\n          \"Luxury\"\n        ],\n        \"semantic_type\": \"\",\n        \"description\": \"\"\n      }\n    },\n    {\n      \"column\": \"Destination\",\n      \"properties\": {\n        \"dtype\": \"category\",\n        \"num_unique_values\": 565,\n        \"samples\": [\n          \"Copenhagen|Moscow\",\n          \"Nasik|Shirdi\",\n          \"Ooty|Wayanad\"\n        ],\n        \"semantic_type\": \"\",\n        \"description\": \"\"\n      }\n    },\n    {\n      \"column\": \"Itinerary\",\n      \"properties\": {\n        \"dtype\": \"category\",\n        \"num_unique_values\": 966,\n        \"samples\": [\n          \"2N Srinagar . 1N Pahalgam . 1N Gulmarg . 1N Srinagar\",\n          \"2N Munnar . 1N Thekkady . 2N Kumarakom . 2N Kovalam and Poovar\",\n          \"2N Dharamshala . 2N Dalhousie . 1N Amritsar\"\n        ],\n        \"semantic_type\": \"\",\n        \"description\": \"\"\n      }\n    },\n    {\n      \"column\": \"Places Covered\",\n      \"properties\": {\n        \"dtype\": \"category\",\n        \"num_unique_values\": 565,\n        \"samples\": [\n          \"Copenhagen|Moscow\",\n          \"Nasik|Shirdi\",\n          \"Ooty|Wayanad\"\n        ],\n        \"semantic_type\": \"\",\n        \"description\": \"\"\n      }\n    },\n    {\n      \"column\": \"Travel Date\",\n      \"properties\": {\n        \"dtype\": \"object\",\n        \"num_unique_values\": 495,\n        \"samples\": [\n          \"17-04-2022\",\n          \"04-07-2021\",\n          \"28-03-2021\"\n        ],\n        \"semantic_type\": \"\",\n        \"description\": \"\"\n      }\n    },\n    {\n      \"column\": \"Hotel Details\",\n      \"properties\": {\n        \"dtype\": \"category\",\n        \"num_unique_values\": 6060,\n        \"samples\": [\n          \"Lhaki Hotel:3.5|Hotel Jumolhari:3.5|Dhensa Boutique Resort:4.5|Resort Paro Drugyel:5.0|Lhaki Hotel:3.5\",\n          \"Hotel Dalhousie Heights:3.3|Hotel BobsnBarley:3.6|Hotel Sapphire:3.6\",\n          \"Fortune Select Grand Ridge-Member ITC Hotel Group:4.1\"\n        ],\n        \"semantic_type\": \"\",\n        \"description\": \"\"\n      }\n    },\n    {\n      \"column\": \"Start City\",\n      \"properties\": {\n        \"dtype\": \"category\",\n        \"num_unique_values\": 2,\n        \"samples\": [\n          \"New Delhi\",\n          \"Mumbai\"\n        ],\n        \"semantic_type\": \"\",\n        \"description\": \"\"\n      }\n    },\n    {\n      \"column\": \"Airline\",\n      \"properties\": {\n        \"dtype\": \"category\",\n        \"num_unique_values\": 314,\n        \"samples\": [\n          \"AirAsia X|AirAsia|Thai AirAsia|Vistara\",\n          \"Vistara|Go Air\"\n        ],\n        \"semantic_type\": \"\",\n        \"description\": \"\"\n      }\n    },\n    {\n      \"column\": \"Flight Stops\",\n      \"properties\": {\n        \"dtype\": \"number\",\n        \"std\": 0,\n        \"min\": 0,\n        \"max\": 2,\n        \"num_unique_values\": 3,\n        \"samples\": [\n          2,\n          0\n        ],\n        \"semantic_type\": \"\",\n        \"description\": \"\"\n      }\n    },\n    {\n      \"column\": \"Meals\",\n      \"properties\": {\n        \"dtype\": \"number\",\n        \"std\": 0,\n        \"min\": 2,\n        \"max\": 5,\n        \"num_unique_values\": 4,\n        \"samples\": [\n          5,\n          2\n        ],\n        \"semantic_type\": \"\",\n        \"description\": \"\"\n      }\n    },\n    {\n      \"column\": \"Sightseeing Places Covered\",\n      \"properties\": {\n        \"dtype\": \"category\",\n        \"num_unique_values\": 1714,\n        \"samples\": [\n          \" Corbyn's Cove | Cellular Jail | Transfer for Luxury Dinner Cruise TSG Bella Bay - MMT | Luxury Dinner Cruise aboard the TSG Bella Bay Cruise Ship, Port Blair (Without Transfers) - MMT | Light and Sound Show at Cellular Jail, Port Blair(Entry Ticket) | North Bay Island Andaman | Anthropological Museum | North Bay Island Entry Ticket (Without Transfers) | Anthropological Museum Entry Ticket (Without Transfers) | MAK- Shared Transfers Port Blair to Havelock Island by Ferry | Radhanagar Beach | MAK- Shared Transfers Havelock to Port Blair by Ferry | Cellular Jail | Chidiya Tapu | Sunset Picnic at Chidiya Tapu Beach in Port Blair - MMT (Entry Ticket) | Cellular Jail Entry Ticket (Without Transfers) \",\n          \" Ruwanweliseya | Abhayagiri Monastery Complex | Jetavanarama Monastery | Thuparama | Koneshwaram Temple | Dambulla Cave Temple | Sigiriya Rock Fortress | Temple of Tooth Relic | Peradeniya Botanical Garden | Gem Museum | Golf Club | Victoria Park | Gregory Lake | Sita Amman Temple | Hakgala Gardens | Pedro Tea estate \"\n        ],\n        \"semantic_type\": \"\",\n        \"description\": \"\"\n      }\n    },\n    {\n      \"column\": \"Cancellation Rules\",\n      \"properties\": {\n        \"dtype\": \"category\",\n        \"num_unique_values\": 10,\n        \"samples\": [\n          \"Packages will be escorted by Local Representative of the Vendor on the day of Full or Half day tours as per itinerary.Vendor Representative are English speaking &\\u00a0 Explain about the Tours in English Language Only. Package has the flexibility to add extra Nights before start of the Tour and at the end of the tour. Please contact MMT representative.Package has the flexibility to add extra Optional tours within the itinerary subject to time availability in each Package. Please contact MMT representative.Price of the Holiday Services are calculated per passenger on twin-sharing basis.The taxes mentioned are taxes as applicable on September 1st, 2017. In the event of increase in the rate of taxation, the differential amount will be payable by the customer. A surcharge may be applicable for certain departures.Service tax charges will apply, as applicable.Cost of deviation and cost of extension of the validity on your ticket is not included.Porter fees at hotels, airports and seaports is not included in the Holiday Services and has to be borne by the customer.Cost of expenses of personal nature such as, laundry, telephone calls, room service, alcoholic beverages, mini bar etc., are not included.Any other items not mentioned in the Inclusions list are not included in the cost of the Holiday Services.Prices are dynamic and based on offers running at the time of booking. MMT reserves the right to change prices at any time.In case the selected hotel is unavailable for booking, an alternate arrangement will be offered to the customer in a hotel of similar category.Due to operational reasons, the routing of this holiday may be amended. However, all mentioned services will remain unchanged.Pricing of the Holiday Services is based on the age of the passengers. Please make sure you enter it correctly at the time of booking. Furnishing wrong passenger age may incur penalty at a later stage.\",\n          \"Cancellation any time after making the 1st payment instalment till the 2nd payment date:The entire amount paid as 1st payment instalment (deposit) would be non-refundable.Cancellation after 2nd payment instalment and before 3rd or final payment date:The total amount that was due at the 2nd payment instalment as per your payment schedule would be non-refundable; anything that you have paid over and above this amount would be refundable.Cancellation after 3rd or final payment date:The full amount paid by you would be non-refundable.\"\n        ],\n        \"semantic_type\": \"\",\n        \"description\": \"\"\n      }\n    },\n    {\n      \"column\": \"Per Person Price\",\n      \"properties\": {\n        \"dtype\": \"number\",\n        \"std\": 11643.641766347971,\n        \"min\": 791.0,\n        \"max\": 171062.5,\n        \"num_unique_values\": 17138,\n        \"samples\": [\n          19688.5,\n          15846.5\n        ],\n        \"semantic_type\": \"\",\n        \"description\": \"\"\n      }\n    }\n  ]\n}"
            }
          },
          "metadata": {},
          "execution_count": 13
        }
      ]
    },
    {
      "cell_type": "code",
      "source": [
        "combined=pd.concat([train,test],ignore_index=True)\n",
        "combined.shape,train.shape,test.shape\n"
      ],
      "metadata": {
        "colab": {
          "base_uri": "https://localhost:8080/"
        },
        "id": "sp4lQh4jvgON",
        "outputId": "de81fb24-d38c-45fd-8969-2e7e08e88416"
      },
      "execution_count": 14,
      "outputs": [
        {
          "output_type": "execute_result",
          "data": {
            "text/plain": [
              "((30000, 15), (21000, 15), (9000, 14))"
            ]
          },
          "metadata": {},
          "execution_count": 14
        }
      ]
    },
    {
      "cell_type": "code",
      "source": [
        "combined.columns"
      ],
      "metadata": {
        "colab": {
          "base_uri": "https://localhost:8080/"
        },
        "id": "lizisOl8xstF",
        "outputId": "326aebc6-386a-40e6-d093-a75aa8ea0038"
      },
      "execution_count": 15,
      "outputs": [
        {
          "output_type": "execute_result",
          "data": {
            "text/plain": [
              "Index(['Uniq Id', 'Package Name', 'Package Type', 'Destination', 'Itinerary',\n",
              "       'Places Covered', 'Travel Date', 'Hotel Details', 'Start City',\n",
              "       'Airline', 'Flight Stops', 'Meals', 'Sightseeing Places Covered',\n",
              "       'Cancellation Rules', 'Per Person Price'],\n",
              "      dtype='object')"
            ]
          },
          "metadata": {},
          "execution_count": 15
        }
      ]
    },
    {
      "cell_type": "code",
      "source": [
        "# check target variable\n",
        "sns.displot(combined['Per Person Price'],color='coral')"
      ],
      "metadata": {
        "colab": {
          "base_uri": "https://localhost:8080/",
          "height": 523
        },
        "id": "-cvjrieTyBXl",
        "outputId": "c44d3206-8f72-4f24-c42e-f0b37172e398"
      },
      "execution_count": 16,
      "outputs": [
        {
          "output_type": "execute_result",
          "data": {
            "text/plain": [
              "<seaborn.axisgrid.FacetGrid at 0x781909567400>"
            ]
          },
          "metadata": {},
          "execution_count": 16
        },
        {
          "output_type": "display_data",
          "data": {
            "text/plain": [
              "<Figure size 500x500 with 1 Axes>"
            ],
            "image/png": "[encoded data removed]"
          },
          "metadata": {}
        }
      ]
    },
    {
      "cell_type": "code",
      "source": [
        "len(combined['Places Covered'][0].split('|'))"
      ],
      "metadata": {
        "colab": {
          "base_uri": "https://localhost:8080/"
        },
        "id": "BrwdrzLZzO7M",
        "outputId": "a8460bc5-f6c4-42ad-fb80-058bc0498d21"
      },
      "execution_count": 17,
      "outputs": [
        {
          "output_type": "execute_result",
          "data": {
            "text/plain": [
              "4"
            ]
          },
          "metadata": {},
          "execution_count": 17
        }
      ]
    },
    {
      "cell_type": "code",
      "source": [
        "# count of places visited\n",
        "places=[]\n",
        "for i in combined['Places Covered']:\n",
        "  places.append(len(i.split('|')))\n"
      ],
      "metadata": {
        "id": "L7kKqgu_8s69"
      },
      "execution_count": 18,
      "outputs": []
    },
    {
      "cell_type": "code",
      "source": [
        "combined['Count_places']=pd.Series(places)"
      ],
      "metadata": {
        "id": "F5JXqqZi9HrV"
      },
      "execution_count": 19,
      "outputs": []
    },
    {
      "cell_type": "code",
      "source": [
        "combined.columns"
      ],
      "metadata": {
        "colab": {
          "base_uri": "https://localhost:8080/"
        },
        "id": "UwYiECVy9fEw",
        "outputId": "e1d80289-6169-45b2-926b-a7f33de2f59b"
      },
      "execution_count": 20,
      "outputs": [
        {
          "output_type": "execute_result",
          "data": {
            "text/plain": [
              "Index(['Uniq Id', 'Package Name', 'Package Type', 'Destination', 'Itinerary',\n",
              "       'Places Covered', 'Travel Date', 'Hotel Details', 'Start City',\n",
              "       'Airline', 'Flight Stops', 'Meals', 'Sightseeing Places Covered',\n",
              "       'Cancellation Rules', 'Per Person Price', 'Count_places'],\n",
              "      dtype='object')"
            ]
          },
          "metadata": {},
          "execution_count": 20
        }
      ]
    },
    {
      "cell_type": "code",
      "source": [
        "# similarly sideseeing places covered\n",
        "sights=[]\n",
        "for i in combined['Sightseeing Places Covered']:\n",
        "  sights.append(len(i.split('|')))"
      ],
      "metadata": {
        "id": "rFRhY-KI9QtR"
      },
      "execution_count": 21,
      "outputs": []
    },
    {
      "cell_type": "code",
      "source": [
        "combined['Count_ss']=pd.Series(sights)"
      ],
      "metadata": {
        "id": "GISpJUul9ukv"
      },
      "execution_count": 22,
      "outputs": []
    },
    {
      "cell_type": "code",
      "source": [
        "combined['Airline'].unique()"
      ],
      "metadata": {
        "colab": {
          "base_uri": "https://localhost:8080/"
        },
        "id": "56NAIT8b96kt",
        "outputId": "6ac0852d-47b9-46c5-8397-59773f3de11e"
      },
      "execution_count": 23,
      "outputs": [
        {
          "output_type": "execute_result",
          "data": {
            "text/plain": [
              "array(['Not Available', 'IndiGo|IndiGo', 'IndiGo', 'Spicejet|Go Air',\n",
              "       'Spicejet', 'IndiGo|Spicejet', 'Go Air|IndiGo', 'Air India',\n",
              "       'Spicejet|Spicejet', 'Go Air', 'Emirates|Emirates',\n",
              "       'Spicejet|Air India|Air India', 'Vistara',\n",
              "       'Spicejet|IndiGo|IndiGo', 'Spicejet|Spicejet|Spicejet|Spicejet',\n",
              "       'Thai Airways|Thai Airways|AirAsia Indonesia|Srilankan Airlines|Srilankan Airlines',\n",
              "       'Spicejet|IndiGo', 'Srilankan Airlines|Srilankan Airlines',\n",
              "       'IndiGo|IndiGo|IndiGo|IndiGo', 'Air India|Air India|Spicejet',\n",
              "       'Go Air|IndiGo|IndiGo', 'Spicejet|AirAsia',\n",
              "       'Emirates|Emirates|Emirates|Emirates', 'Air India|Spicejet',\n",
              "       'Spicejet|Spicejet|Vistara', 'Air India Express|Air India Express',\n",
              "       'Malindo Air|AirAsia Indonesia|Malindo Air|Malindo Air',\n",
              "       'Air India|Air India|Air India|Air India', 'Air India|IndiGo',\n",
              "       'Malaysia Airlines|Malaysia Airlines|Malaysia Airlines|Malaysia Airlines',\n",
              "       'Vistara|Spicejet', 'AirAsia|Spicejet', 'IndiGo|Spicejet|Spicejet',\n",
              "       'Vistara|Go Air',\n",
              "       'IndiGo|Qantas Airways|Qantas Airways|Air New Zealand|Air New Zealand|Air New Zealand|Air New Zealand|Singapore Airlines|Singapore Airlines|Singapore Airlines',\n",
              "       'IndiGo|IndiGo|IndiGo',\n",
              "       'Air India|Air Seychelles|Etihad Airways|Etihad Airways',\n",
              "       'Go Air|Go Air', 'Go Air|Air India',\n",
              "       'Malindo Air|AirAsia X|Malindo Air|Malindo Air',\n",
              "       'Thai Airways|Thai Airways|Thai Airways|Thai Airways',\n",
              "       'Malindo Air|Malindo Air|Malindo Air|Malindo Air',\n",
              "       'Spicejet|Air India', 'IndiGo|Go Air', 'IndiGo|IndiGo|Spicejet',\n",
              "       'Spicejet|IndiGo|IndiGo|IndiGo', 'Vistara|Vistara',\n",
              "       'Vistara|IndiGo', 'Go Air|Spicejet',\n",
              "       'AirAsia X|AirAsia|AirAsia Indonesia|AirAsia X|AirAsia X',\n",
              "       'Malindo Air|Malindo Air|Scoot|Spicejet',\n",
              "       'Spicejet|Spicejet|IndiGo',\n",
              "       'Malindo Air|Malindo Air|AirAsia|AirAsia X',\n",
              "       'Malindo Air|Malindo Air|AirAsia X',\n",
              "       'Air Mauritius|Air Mauritius|Emirates',\n",
              "       'Oman Air|Oman Air|Oman Air|Oman Air',\n",
              "       'Thai Airways|Thai Airways|Thai AirAsia|Vistara',\n",
              "       'Malindo Air|IndiGo|IndiGo', 'AirAsia|IndiGo',\n",
              "       'Srilankan Airlines|Srilankan Airlines|Srilankan Airlines|Srilankan Airlines',\n",
              "       'IndiGo|IndiGo|Vistara', 'AirAsia|Go Air',\n",
              "       'Srilankan Airlines|Srilankan Airlines|Jetstar Asia|Srilankan Airlines|Srilankan Airlines',\n",
              "       'Malindo Air|Malindo Air|Malindo Air|Malindo Air|Malindo Air|Malindo Air',\n",
              "       'Srilankan Airlines|Srilankan Airlines|Malindo Air|Malindo Air|Malindo Air',\n",
              "       'Spicejet|Vistara',\n",
              "       'Air India|Thai Airways|Singapore Airlines|Air India',\n",
              "       'AirAsia|IndiGo|IndiGo',\n",
              "       'Singapore Airlines|Singapore Airlines|Singapore Airlines|Singapore Airlines',\n",
              "       'AirAsia X|AirAsia|AirAsia|AirAsia X',\n",
              "       'Malindo Air|AirAsia X|AirAsia|AirAsia X',\n",
              "       'IndiGo|Air India Express|Spicejet', 'Saudia|Saudia|Saudia|Saudia',\n",
              "       'Thai Airways|Thai Airways|Thai AirAsia|Spicejet',\n",
              "       'Malindo Air|Malindo Air|Malindo Air|Malindo Air|Malindo Air',\n",
              "       'Go Air|Vistara',\n",
              "       'Malindo Air|Malindo Air|Thai AirAsia|Malindo Air|Malindo Air',\n",
              "       'Air India|Go Air', 'Air India|IndiGo|IndiGo',\n",
              "       'Malaysia Airlines|Malaysia Airlines', 'Air India|Air India',\n",
              "       'AirAsia|Vistara', 'Spicejet|Thai AirAsia|AirAsia|AirAsia X',\n",
              "       'Go Air|Spicejet|Spicejet', 'IndiGo|Air India|Air India',\n",
              "       'Spicejet|Spicejet|Spicejet', 'IndiGo|Air India',\n",
              "       'Spicejet|Spicejet|Go Air',\n",
              "       'AirAsia X|AirAsia Indonesia|AirAsia Indonesia|AirAsia|AirAsia X',\n",
              "       'IndiGo|AirAsia', 'Go Air|AirAsia', 'Vistara|Vistara|Vistara',\n",
              "       'Malindo Air|Malindo Air|AirAsia|Malindo Air',\n",
              "       'Spicejet|Spicejet|IndiGo|IndiGo', 'Vistara|Air India',\n",
              "       'Emirates|Emirates|Go Air',\n",
              "       'AirAsia X|AirAsia|Malindo Air|Malindo Air',\n",
              "       'Malaysia Airlines|Malaysia Airlines|Thai Airways|Malaysia Airlines|Malaysia Airlines',\n",
              "       'Malindo Air|Malindo Air|Malindo Air|IndiGo|IndiGo',\n",
              "       'Spicejet|Thai Vietjet Air|Go Air', 'IndiGo|Vistara',\n",
              "       'IndiGo|IndiGo|Malaysia Airlines|Go Air',\n",
              "       'EgyptAir|EgyptAir|EgyptAir|EgyptAir',\n",
              "       'Malindo Air|Malindo Air|Thai AirAsia|Spicejet',\n",
              "       'Air India|Thai Airways|Garuda Indonesia|Malindo Air|Malindo Air',\n",
              "       'Air Mauritius|Air Mauritius', 'Air India Express|IndiGo|IndiGo',\n",
              "       'IndiGo|Silkair|Go Air', 'IndiGo|IndiGo|Malindo Air|IndiGo|IndiGo',\n",
              "       'Go Air|Thai Vietjet Air|Bangkok Airways|Bangkok Airways',\n",
              "       'Vistara|Scoot|Malindo Air|Malindo Air',\n",
              "       'Srilankan Airlines|Srilankan Airlines|Malaysia Airlines|Go Air',\n",
              "       'IndiGo|Air India Express', 'Malindo Air|Malindo Air',\n",
              "       'Srilankan Airlines|Srilankan Airlines|IndiGo',\n",
              "       'AirAsia X|AirAsia Indonesia|AirAsia|AirAsia X',\n",
              "       'Air Mauritius|Kenya Airways|Kenya Airways|Kenya Airways|Kenya Airways',\n",
              "       'Aeroflot|Aeroflot|Aeroflot|Aeroflot', 'IndiGo|IndiGo|Go Air',\n",
              "       'Spicejet|Thai Vietjet Air|Bangkok Airways|Bangkok Airways',\n",
              "       'Bangkok Airways|Bangkok Airways|Bangkok Airways|Bangkok Airways',\n",
              "       'Go Air|Thai Vietjet Air|Go Air',\n",
              "       'AirAsia X|AirAsia|AirAsia|Malindo Air',\n",
              "       'AirAsia X|AirAsia|AirAsia Indonesia|AirAsia|AirAsia X',\n",
              "       'Vistara|Philippine Airlines|Philippine Airlines|Jetstar Airways|Emirates|Emirates',\n",
              "       'Air India Express|IndiGo',\n",
              "       'Air India|AirAsia Indonesia|AirAsia Indonesia|AirAsia X',\n",
              "       'Air India|Air India|IndiGo',\n",
              "       'Qantas Airways|Qantas Airways|Qantas Airways|Qantas Airways|Qantas Airways|Qantas Airways',\n",
              "       'IndiGo|Garuda Indonesia|Garuda Indonesia|Malindo Air|Malindo Air',\n",
              "       'Spicejet|Go Air|Go Air',\n",
              "       'Malindo Air|Malindo Air|AirAsia Indonesia|Srilankan Airlines|Srilankan Airlines',\n",
              "       'AirAsia X|AirAsia|Thai AirAsia|Vistara',\n",
              "       'Singapore Airlines|Singapore Airlines|Singapore Airlines|Singapore Airlines|Singapore Airlines|Singapore Airlines',\n",
              "       'Etihad Airways|Etihad Airways|Etihad Airways|Etihad Airways',\n",
              "       'Vistara|IndiGo|IndiGo', 'Spicejet|Scoot|Scoot|Spicejet',\n",
              "       'Malindo Air|Malindo Air|Scoot|Air India',\n",
              "       'Malindo Air|Malindo Air|Malindo Air',\n",
              "       'Vistara|AirAsia Indonesia|Malindo Air|Malindo Air',\n",
              "       'Malaysia Airlines|Malaysia Airlines|Bangkok Airways|Thai Airways',\n",
              "       'Malaysia Airlines|Malaysia Airlines|Qantas Airways|Qantas Airways|Qantas Airways',\n",
              "       'Malindo Air|Malindo Air|AirAsia Indonesia|Scoot|Malindo Air',\n",
              "       'AirAsia|Spicejet|Spicejet',\n",
              "       'Malindo Air|AirAsia|Malindo Air|Malindo Air', 'Air India|AirAsia',\n",
              "       'Malindo Air|Malindo Air|Malindo Air|Malindo Air|AirAsia|Malindo Air',\n",
              "       'Srilankan Airlines|Srilankan Airlines|AirAsia|Malindo Air|Malindo Air',\n",
              "       'Vistara|Garuda Indonesia|Garuda Indonesia|Malindo Air|Malindo Air',\n",
              "       'Singapore Airlines|Silkair|Singapore Airlines|Singapore Airlines',\n",
              "       'Go Air|Bangkok Airways|Go Air',\n",
              "       'Malindo Air|Malindo Air|Scoot|Scoot|Malaysia Airlines',\n",
              "       'Malindo Air|Malaysia Airlines|Go Air',\n",
              "       'AirAsia X|AirAsia|Scoot|Malindo Air|Malindo Air',\n",
              "       'AirAsia|Air India',\n",
              "       'Malindo Air|Malindo Air|Scoot|Malindo Air|Malindo Air',\n",
              "       'IndiGo|IndiGo|Air India',\n",
              "       'AirAsia X|AirAsia Indonesia|AirAsia X|AirAsia X',\n",
              "       'Air India|Vistara', 'Vistara|Thai AirAsia|AirAsia|AirAsia X',\n",
              "       'Singapore Airlines|Singapore Airlines|Malaysia Airlines|Singapore Airlines|Singapore Airlines',\n",
              "       'Air India|Air India|Swiss|Swiss', 'Etihad Airways|Etihad Airways',\n",
              "       'Malaysia Airlines|Malaysia Airlines|Malindo Air|IndiGo|IndiGo',\n",
              "       'IndiGo|Emirates|Qantas Airways|Air New Zealand|Air New Zealand|Air New Zealand|Air New Zealand|Emirates|Emirates|Emirates',\n",
              "       'Thai Airways|Thai Airways|Scoot|Srilankan Airlines|Srilankan Airlines',\n",
              "       'Spicejet|Air India Express|IndiGo|IndiGo',\n",
              "       'Go Air|Thai Vietjet Air|Spicejet',\n",
              "       'Gulf Air|Gulf Air|Lufthansa|Lufthansa',\n",
              "       'Vistara|Singapore Airlines|Go Air', 'AirAsia',\n",
              "       'Malindo Air|Malindo Air|Garuda Indonesia|Malindo Air|Malindo Air',\n",
              "       'Air Seychelles|Air Seychelles|Air India',\n",
              "       'Spicejet|IndiGo|Air India|Air India',\n",
              "       'Air India Express|Spicejet',\n",
              "       'Air India|Air India|Air Baltic|Air Baltic|Uzbekistan Airways|Uzbekistan Airways',\n",
              "       'Thai Airways|Thai Airways|AirAsia Indonesia|Malindo Air|Malindo Air',\n",
              "       'Swiss|Swiss|Lufthansa|Lufthansa',\n",
              "       'Air India|Air India|Lufthansa|Lufthansa',\n",
              "       'IndiGo|Malaysia Airlines|Go Air', 'Vistara|Scoot|Spicejet',\n",
              "       'Malindo Air|AirAsia|AirAsia X',\n",
              "       'Malindo Air|Malindo Air|Scoot|Vistara',\n",
              "       'Spicejet|Spicejet|Air India',\n",
              "       'Malindo Air|AirAsia|AirAsia|AirAsia X', 'Spicejet|IndiGo|Go Air',\n",
              "       'Air India|Air India|Kuwait Airways|Kuwait Airways',\n",
              "       'IndiGo|Jetstar Asia|Go Air',\n",
              "       'Malindo Air|Malindo Air|IndiGo|IndiGo',\n",
              "       'Air India|Malaysia Airlines|Malaysia Airlines|Air New Zealand|Air New Zealand|Air New Zealand|Air New Zealand|China Southern|China Southern',\n",
              "       'Air India|Spicejet|Spicejet',\n",
              "       'Srilankan Airlines|Srilankan Airlines|AirAsia Indonesia|AirAsia|AirAsia X',\n",
              "       'Malindo Air|Malindo Air|Malindo Air|AirAsia Indonesia|AirAsia X',\n",
              "       'Vistara|Spicejet|Spicejet',\n",
              "       'Air India|Air India|Finnair|Qatar Airways|Qatar Airways',\n",
              "       'IndiGo|IndiGo|Qantas Airways|Qantas Airways|Air New Zealand|Air New Zealand|Air New Zealand|Air New Zealand|Air New Zealand|Singapore Airlines|Singapore Airlines',\n",
              "       'Go Air|Go Air|IndiGo',\n",
              "       'Bangkok Airways|Bangkok Airways|Bangkok Airways|Spicejet',\n",
              "       'Go Air|Go Air|Thai Vietjet Air|Go Air',\n",
              "       'Singapore Airlines|Singapore Airlines|Air New Zealand|Singapore Airlines|Singapore Airlines|Singapore Airlines',\n",
              "       'AirAsia X|AirAsia Indonesia|AirAsia|Malindo Air',\n",
              "       'Malindo Air|Malindo Air|Scoot|Scoot|Malindo Air',\n",
              "       'IndiGo|Philippine Airlines|Philippine Airlines|Air New Zealand|Air New Zealand|Air New Zealand|Air New Zealand|Singapore Airlines|Singapore Airlines',\n",
              "       'Spicejet|IndiGo|Vistara',\n",
              "       'Malaysia Airlines|Malaysia Airlines|EgyptAir|EgyptAir',\n",
              "       'Lufthansa|Lufthansa|Lufthansa|Lufthansa', 'Vistara|AirAsia',\n",
              "       'Air India|Air India|Air India',\n",
              "       'Singapore Airlines|Singapore Airlines|Bangkok Airways|Srilankan Airlines|Srilankan Airlines',\n",
              "       'Singapore Airlines|Singapore Airlines|Singapore Airlines|Airconnect|Singapore Airlines|Singapore Airlines',\n",
              "       'Thai Airways|Thai Airways',\n",
              "       'IndiGo|Emirates|Etihad Airways|Etihad Airways|Etihad Airways',\n",
              "       'Malindo Air|Malindo Air|Scoot|Malaysia Airlines|Malaysia Airlines',\n",
              "       'Malindo Air|Malindo Air|Malindo Air|Malindo Air|Spicejet',\n",
              "       'Air India|Air Mauritius|Air Mauritius|Air India',\n",
              "       'Thai Airways|Thai Airways|Malindo Air|IndiGo|IndiGo',\n",
              "       'AirAsia X|AirAsia X|AirAsia|AirAsia X',\n",
              "       'Spicejet|Air India|IndiGo', 'Air India|Air India|IndiGo|IndiGo',\n",
              "       'Malindo Air|Malindo Air|Thai AirAsia|Vistara',\n",
              "       'Malindo Air|Malindo Air|Malindo Air|Malindo Air|IndiGo|IndiGo',\n",
              "       'IndiGo|IndiGo|Singapore Airlines|Go Air',\n",
              "       'Malindo Air|Malindo Air|AirAsia Indonesia|Malindo Air|Malindo Air',\n",
              "       'Malindo Air|Malindo Air|Scoot|Srilankan Airlines|Srilankan Airlines',\n",
              "       'IndiGo|Malindo Air', 'Spicejet|Spicejet|Vistara|Vistara',\n",
              "       'Singapore Airlines|Air New Zealand|Singapore Airlines|Singapore Airlines|Singapore Airlines|Singapore Airlines',\n",
              "       'Singapore Airlines|Singapore Airlines|Bangkok Airways|Thai Airways',\n",
              "       'Malindo Air|Malindo Air|AirAsia Indonesia|Malindo Air',\n",
              "       'Go Air|Go Air|Spicejet|Spicejet',\n",
              "       'Air India|China Eastern|China Eastern|Air New Zealand|Air New Zealand|Air New Zealand|Air New Zealand|Singapore Airlines|Singapore Airlines',\n",
              "       'Malindo Air|Malindo Air|AirAsia Indonesia|AirAsia|AirAsia X',\n",
              "       'Thai Airways|Thai Airways|AirAsia|Malindo Air',\n",
              "       'AirAsia X|AirAsia Indonesia|Malindo Air|Malindo Air|Malindo Air',\n",
              "       'AirAsia X|AirAsia|Malindo Air',\n",
              "       'Air Mauritius|Air Mauritius|Air Mauritius',\n",
              "       'Malaysia Airlines|AirAsia|Malindo Air|Malindo Air',\n",
              "       'AirAsia X|AirAsia Indonesia|AirAsia Indonesia|Malindo Air',\n",
              "       'Air India|Air India|Vistara', 'Vistara|Scoot|Air India|Air India',\n",
              "       'Go Air|Go Air|Go Air',\n",
              "       'Malindo Air|Malindo Air|AirAsia X|Malindo Air',\n",
              "       'Air India|Air India|Norwegian|British Airways|Virgin Atlantic',\n",
              "       'IndiGo|IndiGo|Malindo Air|Malindo Air|Malindo Air',\n",
              "       'Turkish Airlines|Turkish Airlines|Brussels Airlines|Brussels Airlines|Oman Air|Oman Air',\n",
              "       'Malindo Air|Malindo Air|AirAsia Indonesia|Air India',\n",
              "       'Air India|Air New Zealand|Air New Zealand|Air New Zealand|Air New Zealand|Air New Zealand|Emirates|Emirates',\n",
              "       'Cathay Pacific|Cathay Pacific|Qantas Airways|Cathay Pacific|Cathay Pacific',\n",
              "       'AirAsia X|Malindo Air',\n",
              "       'Air Seychelles|Air Seychelles|Air Seychelles|Air Seychelles',\n",
              "       'Srilankan Airlines|Srilankan Airlines|Qantas Airways|Qantas Airways|Qantas Airways|Qantas Airways|Qantas Airways',\n",
              "       'Malindo Air|AirAsia X',\n",
              "       'Singapore Airlines|Singapore Airlines|IndiGo|IndiGo',\n",
              "       'Air India|Thai Airways|Malindo Air|IndiGo|IndiGo',\n",
              "       'Thai Airways|Thai Airways|Garuda Indonesia|Malindo Air|Malindo Air',\n",
              "       'Air Seychelles|Air Seychelles|Air Austral|Air Austral|Air India',\n",
              "       'Singapore Airlines|Singapore Airlines|Malindo Air|Malindo Air',\n",
              "       'Singapore Airlines|Silkair|Malindo Air|Malindo Air|IndiGo',\n",
              "       'Vistara|Vistara|Go Air', 'IndiGo|Spicejet|IndiGo',\n",
              "       'Air India|Air India|Go Air',\n",
              "       'Thai Airways|Thai Airways|Scoot|AirAsia|AirAsia X',\n",
              "       'Malaysia Airlines|Malaysia Airlines|Jetstar Airways|Jetstar Airways|Emirates|Emirates',\n",
              "       'Vistara|AirAsia Indonesia|AirAsia X|AirAsia X',\n",
              "       'Thai Airways|Thai Airways|AirAsia Indonesia|AirAsia X|AirAsia X',\n",
              "       'IndiGo|Air India|IndiGo',\n",
              "       'AirAsia X|AirAsia Indonesia|AirAsia Indonesia|AirAsia X',\n",
              "       'British Airways|British Airways|British Airways|British Airways',\n",
              "       'IndiGo|Srilankan Airlines|Srilankan Airlines',\n",
              "       'EgyptAir|EgyptAir|Air Baltic|Air Baltic|Oman Air|Oman Air',\n",
              "       'Air New Zealand|Air New Zealand|Air New Zealand|Air New Zealand|Air New Zealand|Air New Zealand',\n",
              "       'Turkish Airlines|Turkish Airlines|Turkish Airlines|Turkish Airlines',\n",
              "       'AirAsia|Air India|Air India',\n",
              "       'Srilankan Airlines|Srilankan Airlines|Scoot|Spicejet',\n",
              "       'AirAsia X|AirAsia|AirAsia X', 'IndiGo|IndiGo|Jetstar Asia|Go Air',\n",
              "       'Air India|Thai Airways|AirAsia Indonesia|Srilankan Airlines|Srilankan Airlines',\n",
              "       'IndiGo|IndiGo|Spicejet|Spicejet',\n",
              "       'Air India|AirAsia Indonesia|Malindo Air|Malindo Air',\n",
              "       'Malaysia Airlines|Malaysia Airlines|Thai Airways|Thai Airways',\n",
              "       'Singapore Airlines|Singapore Airlines',\n",
              "       'Air Mauritius|Air Mauritius|Kenya Airways|Kenya Airways',\n",
              "       'Cathay Pacific|Cathay Pacific|Bangkok Airways|Thai Airways',\n",
              "       'AirAsia X|AirAsia|AirAsia Indonesia|Malindo Air|Malindo Air',\n",
              "       'Emirates|Emirates|South African Airways|South African Airways|Air India|Air India',\n",
              "       'Air India|Air India|Air Seychelles|Ethiopian Airlines|Ethiopian Airlines',\n",
              "       'Emirates|Air Mauritius|Air Mauritius', 'IndiGo|Spicejet|Vistara',\n",
              "       'Qantas Airways|Qantas Airways|Qantas Airways|Singapore Airlines|Singapore Airlines',\n",
              "       'Air India|Qantas Airways|Qantas Airways|Singapore Airlines|Singapore Airlines|Singapore Airlines',\n",
              "       'Vistara|Air India|Air India',\n",
              "       'Turkish Airlines|Turkish Airlines|Finnair|Turkish Airlines|Turkish Airlines',\n",
              "       'Vistara|Malaysia Airlines|Malaysia Airlines|Air New Zealand|Air New Zealand|Air New Zealand|Air New Zealand|Emirates|Emirates|Emirates',\n",
              "       'Go Air|Bangkok Airways|Bangkok Airways|Bangkok Airways',\n",
              "       'Malaysia Airlines|Malaysia Airlines|Cathay Pacific|Malaysia Airlines|Malaysia Airlines',\n",
              "       'Turkish Airlines|Turkish Airlines|Sichuan Airlines|Qatar Airways|Qatar Airways',\n",
              "       'Singapore Airlines|Singapore Airlines|Singapore Airlines|Air New Zealand|Singapore Airlines|Singapore Airlines',\n",
              "       'Malindo Air|Malindo Air|AirAsia Indonesia|Scoot|AirAsia X',\n",
              "       'Malindo Air|Malindo Air|AirAsia Indonesia|AirAsia X',\n",
              "       'Kuwait Airways|Kuwait Airways|Kuwait Airways|Kuwait Airways',\n",
              "       'Spicejet|IndiGo|Spicejet|Spicejet', 'Vistara|Vistara|IndiGo',\n",
              "       'Srilankan Airlines|Srilankan Airlines|Malindo Air',\n",
              "       'Emirates|IndiGo|IndiGo',\n",
              "       'Turkish Airlines|Turkish Airlines|Norwegian|Etihad Airways|Etihad Airways|Etihad Airways',\n",
              "       'Cathay Pacific|Cathay Pacific|Qantas Airways|Air New Zealand|Cathay Pacific|Cathay Pacific',\n",
              "       'Go Air|Go Air|Air India',\n",
              "       'Cathay Pacific|Cathay Pacific|Singapore Airlines|Singapore Airlines|Malaysia Airlines',\n",
              "       'Malaysia Airlines|Malaysia Airlines|Malaysia Airlines',\n",
              "       'Malindo Air|Srilankan Airlines|Srilankan Airlines',\n",
              "       'Singapore Airlines|Silkair|Silkair|Singapore Airlines',\n",
              "       'Singapore Airlines|Air New Zealand|Air New Zealand|Air New Zealand|Air New Zealand|Air New Zealand|Singapore Airlines|Singapore Airlines',\n",
              "       'Malaysia Airlines|Malaysia Airlines|AirAsia Indonesia|AirAsia X',\n",
              "       'Thai Airways|Thai Airways|Malindo Air|Malindo Air',\n",
              "       'IndiGo|IndiGo|Bangkok Airways|Go Air',\n",
              "       'Malaysia Airlines|Malaysia Airlines|Jetstar Asia|Malaysia Airlines|Malaysia Airlines',\n",
              "       'Thai Airways|Thai Airways|Thai AirAsia|AirAsia|AirAsia X',\n",
              "       'Srilankan Airlines|Srilankan Airlines|IndiGo|IndiGo',\n",
              "       'Cathay Pacific|Cathay Pacific|Qantas Airways|Qantas Airways|Qantas Airways|Qantas Airways|Qantas Airways',\n",
              "       'Go Air|Air India|Air India',\n",
              "       'Singapore Airlines|Air New Zealand|Air New Zealand|Singapore Airlines|Singapore Airlines|Singapore Airlines',\n",
              "       'Thai Airways|Thai Airways|AirAsia Indonesia|Scoot|Malindo Air',\n",
              "       'Air India|Air Austral|Air Austral|Emirates|Emirates',\n",
              "       'IndiGo|IndiGo|Singapore Airlines|IndiGo|IndiGo',\n",
              "       'AirAsia X|AirAsia|Malindo Air|Malindo Air|Malindo Air|Malindo Air',\n",
              "       'IndiGo|IndiGo|Air India Express', 'Spicejet|Go Air|Spicejet',\n",
              "       'AirAsia X|Malindo Air|AirAsia X|AirAsia X',\n",
              "       'IndiGo|Malindo Air|Malindo Air|Spicejet',\n",
              "       'Air India Express|Air India',\n",
              "       'Swiss|Swiss|Air Baltic|Air Baltic|Turkish Airlines|Turkish Airlines',\n",
              "       'Emirates|Emirates|Air India', 'Spicejet|Bangkok Airways|Go Air',\n",
              "       'IndiGo|Emirates|Qantas Airways|Air New Zealand|Air New Zealand|Singapore Airlines|Singapore Airlines',\n",
              "       'IndiGo|IndiGo|AirAsia',\n",
              "       'Malindo Air|Malindo Air|Scoot|AirAsia|Malaysia Airlines',\n",
              "       'Malindo Air|Malindo Air|Thai AirAsia|Srilankan Airlines|Srilankan Airlines',\n",
              "       'IndiGo|IndiGo|Malindo Air',\n",
              "       'Malindo Air|AirAsia|AirAsia X|AirAsia X',\n",
              "       'IndiGo|IndiGo|Malindo Air|Go Air', 'AirAsia|Vistara|Vistara',\n",
              "       'Malindo Air|Malindo Air|Thai AirAsia|Air India',\n",
              "       'Go Air|Bangkok Airways|Spicejet', 'Vistara|IndiGo|Vistara',\n",
              "       'IndiGo|IndiGo|Malaysia Airlines|Malaysia Airlines|Malindo Air|Malindo Air',\n",
              "       'Go Air|Go Air|Spicejet',\n",
              "       'IndiGo|Qantas Airways|Singapore Airlines|Singapore Airlines',\n",
              "       'Thai Airways|Thai Airways|AirAsia Indonesia|AirAsia|AirAsia X',\n",
              "       'Malindo Air|Malindo Air|Go Air',\n",
              "       'Malindo Air|Scoot|AirAsia|AirAsia X',\n",
              "       'Malaysia Airlines|IndiGo|IndiGo',\n",
              "       'Vistara|Vistara|Spicejet|Spicejet',\n",
              "       'Air Seychelles|Air Seychelles|Air Seychelles|Air Seychelles|Etihad Airways',\n",
              "       'Malindo Air|Malindo Air|AirAsia Indonesia|AirAsia|Malindo Air',\n",
              "       'AirAsia X|AirAsia|Malindo Air|Thai Airways|Thai Airways',\n",
              "       'IndiGo|Go Air|Spicejet',\n",
              "       'Air India|Air India|Air Seychelles|Qatar Airways|Qatar Airways',\n",
              "       'Air India|Air Seychelles|Ethiopian Airlines|Ethiopian Airlines',\n",
              "       'IndiGo|Air India|IndiGo|IndiGo', 'AirAsia X|AirAsia X',\n",
              "       'Air India|IndiGo|IndiGo|IndiGo', 'IndiGo|Go Air|Go Air',\n",
              "       'Malindo Air|Malindo Air|AirAsia Indonesia|Thai Airways|Thai Airways'],\n",
              "      dtype=object)"
            ]
          },
          "metadata": {},
          "execution_count": 23
        }
      ]
    },
    {
      "cell_type": "code",
      "source": [
        "airlines=[]\n",
        "for i in combined['Airline']:\n",
        "  sights.append(len(i.split('|')))"
      ],
      "metadata": {
        "id": "5nnh1ZMo_Aqc"
      },
      "execution_count": 24,
      "outputs": []
    },
    {
      "cell_type": "code",
      "source": [
        "combined['count_flights']=pd.Series(airlines)"
      ],
      "metadata": {
        "id": "xxfwiW7i_ULz"
      },
      "execution_count": 25,
      "outputs": []
    },
    {
      "cell_type": "code",
      "source": [
        "# converting travel date into date-time\n",
        "combined['Travel Date']=pd.to_datetime(combined['Travel Date'])"
      ],
      "metadata": {
        "id": "7DgSwL7A_gID"
      },
      "execution_count": 28,
      "outputs": []
    },
    {
      "cell_type": "code",
      "source": [
        "combined['Date']=combined['Travel Date'].dt.day\n",
        "combined['Month']=combined['Travel Date'].dt.month\n",
        "combined['Year']=combined['Travel Date'].dt.year\n",
        "# dt is datetime"
      ],
      "metadata": {
        "id": "JJm9vF8qCnKn"
      },
      "execution_count": 31,
      "outputs": []
    },
    {
      "cell_type": "code",
      "source": [
        "combined.loc[(combined.Airline=='Not Available')& (combined['Flight Stops']==0),\"Meals\"].describe()\n",
        "# to check airline not available, flight stops ....Though the data is not available but meals is taken(coz min is 4). Therefore flight is taken"
      ],
      "metadata": {
        "colab": {
          "base_uri": "https://localhost:8080/"
        },
        "id": "7usEvJP7_lsE",
        "outputId": "48cc43ec-b6ac-468c-9b59-1c352e3bfacf"
      },
      "execution_count": 27,
      "outputs": [
        {
          "output_type": "execute_result",
          "data": {
            "text/plain": [
              "count    3070.000000\n",
              "mean        4.583062\n",
              "std         0.493133\n",
              "min         4.000000\n",
              "25%         4.000000\n",
              "50%         5.000000\n",
              "75%         5.000000\n",
              "max         5.000000\n",
              "Name: Meals, dtype: float64"
            ]
          },
          "metadata": {},
          "execution_count": 27
        }
      ]
    },
    {
      "cell_type": "code",
      "source": [
        "# Extract the pattern with the target variable...\n",
        "max_month=combined.groupby('Month')['Per Person Price'].max()\n",
        "max_month.plot(kind='line',marker='o',color='blue')\n",
        "plt.title('max spent over months')\n",
        "plt.show()\n",
        "# [4,5,7,9,10]"
      ],
      "metadata": {
        "colab": {
          "base_uri": "https://localhost:8080/",
          "height": 472
        },
        "id": "x917OhccBtWV",
        "outputId": "2dfafd8c-deb6-409c-d0b5-074e7418496e"
      },
      "execution_count": 35,
      "outputs": [
        {
          "output_type": "display_data",
          "data": {
            "text/plain": [
              "<Figure size 640x480 with 1 Axes>"
            ],
            "image/png": "[encoded data removed]"
          },
          "metadata": {}
        }
      ]
    },
    {
      "cell_type": "code",
      "source": [
        "peak=[4,5,7,9,10]\n",
        "def peaks(x):\n",
        "  if x in peak:\n",
        "    return('Peak_month')\n",
        "  else:\n",
        "    return('Lean_month')\n",
        "combined['Peak_months']=combined['Month'].apply(peaks)"
      ],
      "metadata": {
        "id": "ZnhC06dBD8wf"
      },
      "execution_count": 36,
      "outputs": []
    },
    {
      "cell_type": "code",
      "source": [
        "max_date=combined.groupby('Date')['Per Person Price'].max()\n",
        "max_date.plot(kind='line',marker='o',color='blue')\n",
        "plt.title('max spent over days')\n",
        "plt.show()"
      ],
      "metadata": {
        "colab": {
          "base_uri": "https://localhost:8080/",
          "height": 472
        },
        "id": "FAOVrhxBIqEt",
        "outputId": "ff9d2dca-2725-4f64-e6c1-70b5eeaf65b2"
      },
      "execution_count": 38,
      "outputs": [
        {
          "output_type": "display_data",
          "data": {
            "text/plain": [
              "<Figure size 640x480 with 1 Axes>"
            ],
            "image/png": "[encoded data removed]"
          },
          "metadata": {}
        }
      ]
    },
    {
      "cell_type": "code",
      "source": [
        "peak_days=[2,4,5,7,8,10,11,13,15,18,19,21,22,24,27,29]\n",
        "def peaks(x):\n",
        "  if x in peak_days:\n",
        "    return('Peak_days')\n",
        "  else:\n",
        "    return('Lean_days')\n",
        "combined['Peak_days']=combined['Date'].apply(peaks)"
      ],
      "metadata": {
        "id": "VADzeKw7I0IM"
      },
      "execution_count": 44,
      "outputs": []
    },
    {
      "cell_type": "code",
      "source": [
        "sns.boxplot(x='Peak_days',y='Per Person Price',data=combined)\n",
        "plt.show()"
      ],
      "metadata": {
        "colab": {
          "base_uri": "https://localhost:8080/",
          "height": 450
        },
        "id": "UaNA33fiKDp0",
        "outputId": "aad69a65-48f7-4120-a0b0-f95965925426"
      },
      "execution_count": 45,
      "outputs": [
        {
          "output_type": "display_data",
          "data": {
            "text/plain": [
              "<Figure size 640x480 with 1 Axes>"
            ],
            "image/png": "[encoded data removed]"
          },
          "metadata": {}
        }
      ]
    },
    {
      "cell_type": "code",
      "source": [
        "import re"
      ],
      "metadata": {
        "id": "Go60TGxIKYhv"
      },
      "execution_count": 46,
      "outputs": []
    },
    {
      "cell_type": "code",
      "source": [
        "combined['duration']=combined['Itinerary'].apply(lambda x:np.sum(pd.to_numeric(re.findall('\\d',x))))"
      ],
      "metadata": {
        "id": "XQtYBINVXrw7"
      },
      "execution_count": 48,
      "outputs": []
    },
    {
      "cell_type": "code",
      "source": [
        "combined['rating']=combined['Hotel Details'].apply(lambda x:np.mean(pd.to_numeric(re.findall('\\d\\.\\d',x))))"
      ],
      "metadata": {
        "id": "frbTbY_2YFbO"
      },
      "execution_count": 54,
      "outputs": []
    },
    {
      "cell_type": "code",
      "source": [
        "combined.rating.fillna(combined.rating.median(),inplace=True)"
      ],
      "metadata": {
        "id": "GVzjxafHY58f"
      },
      "execution_count": 59,
      "outputs": []
    },
    {
      "cell_type": "code",
      "source": [
        "combined.isnull().sum()"
      ],
      "metadata": {
        "colab": {
          "base_uri": "https://localhost:8080/"
        },
        "id": "jwoziVdnadaU",
        "outputId": "182e35fb-ac72-4145-de8e-bfe198aa98c4"
      },
      "execution_count": 60,
      "outputs": [
        {
          "output_type": "execute_result",
          "data": {
            "text/plain": [
              "Uniq Id                           0\n",
              "Package Name                      0\n",
              "Package Type                      0\n",
              "Destination                       0\n",
              "Itinerary                         0\n",
              "Places Covered                    0\n",
              "Travel Date                       0\n",
              "Hotel Details                     0\n",
              "Start City                        0\n",
              "Airline                           0\n",
              "Flight Stops                      0\n",
              "Meals                             0\n",
              "Sightseeing Places Covered        0\n",
              "Cancellation Rules                0\n",
              "Per Person Price               9000\n",
              "Count_places                      0\n",
              "Count_ss                          0\n",
              "count_flights                 30000\n",
              "Date                              0\n",
              "Month                             0\n",
              "Year                              0\n",
              "Peak_months                       0\n",
              "Peak_days                         0\n",
              "duration                          0\n",
              "rating                            0\n",
              "dtype: int64"
            ]
          },
          "metadata": {},
          "execution_count": 60
        }
      ]
    },
    {
      "cell_type": "code",
      "source": [
        "combined.columns"
      ],
      "metadata": {
        "colab": {
          "base_uri": "https://localhost:8080/"
        },
        "id": "YqpNLIaIbR37",
        "outputId": "5c0ef083-94f6-4074-c808-b938b6ae784b"
      },
      "execution_count": 62,
      "outputs": [
        {
          "output_type": "execute_result",
          "data": {
            "text/plain": [
              "Index(['Uniq Id', 'Package Name', 'Package Type', 'Destination', 'Itinerary',\n",
              "       'Places Covered', 'Travel Date', 'Hotel Details', 'Start City',\n",
              "       'Airline', 'Flight Stops', 'Meals', 'Sightseeing Places Covered',\n",
              "       'Cancellation Rules', 'Per Person Price', 'Count_places', 'Count_ss',\n",
              "       'count_flights', 'Date', 'Month', 'Year', 'Peak_months', 'Peak_days',\n",
              "       'duration', 'rating'],\n",
              "      dtype='object')"
            ]
          },
          "metadata": {},
          "execution_count": 62
        }
      ]
    },
    {
      "cell_type": "markdown",
      "source": [],
      "metadata": {
        "id": "7rftglcWbxed"
      }
    },
    {
      "cell_type": "code",
      "source": [
        "newdata=combined.drop(['Uniq Id','Destination','Itinerary','Places Covered','Travel Date','Hotel Details','Airline','Sightseeing Places Covered','Cancellation Rules','Date','Month'],axis=1)"
      ],
      "metadata": {
        "id": "N12GYYRpajuY"
      },
      "execution_count": 64,
      "outputs": []
    },
    {
      "cell_type": "code",
      "source": [
        "newdata"
      ],
      "metadata": {
        "colab": {
          "base_uri": "https://localhost:8080/",
          "height": 947
        },
        "id": "4kWWyCvKcAlu",
        "outputId": "e7f10533-fe1e-49cf-9b71-902f7caf624a"
      },
      "execution_count": 65,
      "outputs": [
        {
          "output_type": "execute_result",
          "data": {
            "text/plain": [
              "                                            Package Name Package Type  \\\n",
              "0           Best of Shimla and Manali Holiday from Delhi     Standard   \n",
              "1                                Kashmir Valley vacation      Premium   \n",
              "2                Might of Mewar- Udaipur and Chittorgarh       Luxury   \n",
              "3                   Colorful Kerala ( Romantic Getaway )      Premium   \n",
              "4                            A Week In Bangkok & Pattaya      Premium   \n",
              "...                                                  ...          ...   \n",
              "29995                                     Trip to Kerala     Standard   \n",
              "29996                            Magical Kashmir Holiday       Deluxe   \n",
              "29997    Holiday in Dharamshala and Dalhousie from Delhi       Luxury   \n",
              "29998  Colorful Rajasthan- Jaipur, Jodhpur, Jaisalmer...       Deluxe   \n",
              "29999                   Short Trip to Shirdi for Darshan       Budget   \n",
              "\n",
              "      Start City  Flight Stops  Meals  Per Person Price  Count_places  \\\n",
              "0         Mumbai             2      3           11509.0             4   \n",
              "1      New Delhi             0      5           22485.5             3   \n",
              "2      New Delhi             0      4           12421.5             2   \n",
              "3      New Delhi             0      5           35967.0             4   \n",
              "4      New Delhi             0      5           25584.0             2   \n",
              "...          ...           ...    ...               ...           ...   \n",
              "29995  New Delhi             2      3               NaN             3   \n",
              "29996     Mumbai             1      3               NaN             4   \n",
              "29997     Mumbai             0      4               NaN             2   \n",
              "29998  New Delhi             1      3               NaN             4   \n",
              "29999  New Delhi             2      2               NaN             1   \n",
              "\n",
              "       Count_ss count_flights  Year Peak_months  Peak_days  duration    rating  \n",
              "0             1           NaN  2021  Peak_month  Lean_days         6  4.100000  \n",
              "1             7           NaN  2021  Lean_month  Peak_days         4  4.433333  \n",
              "2             8           NaN  2021  Peak_month  Lean_days         3  4.400000  \n",
              "3             9           NaN  2021  Lean_month  Peak_days         6  4.500000  \n",
              "4             2           NaN  2021  Lean_month  Lean_days         7  4.350000  \n",
              "...         ...           ...   ...         ...        ...       ...       ...  \n",
              "29995        10           NaN  2021  Lean_month  Peak_days         4  4.100000  \n",
              "29996        12           NaN  2021  Lean_month  Peak_days         4  4.100000  \n",
              "29997        12           NaN  2021  Lean_month  Peak_days         5  4.250000  \n",
              "29998        11           NaN  2021  Lean_month  Peak_days         7  4.125000  \n",
              "29999         1           NaN  2021  Lean_month  Peak_days         2  3.500000  \n",
              "\n",
              "[30000 rows x 14 columns]"
            ],
            "text/html": [
              "\n",
              "  <div id=\"df-2f077137-6034-409e-be34-38fde33753af\" class=\"colab-df-container\">\n",
              "    <div>\n",
              "<style scoped>\n",
              "    .dataframe tbody tr th:only-of-type {\n",
              "        vertical-align: middle;\n",
              "    }\n",
              "\n",
              "    .dataframe tbody tr th {\n",
              "        vertical-align: top;\n",
              "    }\n",
              "\n",
              "    .dataframe thead th {\n",
              "        text-align: right;\n",
              "    }\n",
              "</style>\n",
              "<table border=\"1\" class=\"dataframe\">\n",
              "  <thead>\n",
              "    <tr style=\"text-align: right;\">\n",
              "      <th></th>\n",
              "      <th>Package Name</th>\n",
              "      <th>Package Type</th>\n",
              "      <th>Start City</th>\n",
              "      <th>Flight Stops</th>\n",
              "      <th>Meals</th>\n",
              "      <th>Per Person Price</th>\n",
              "      <th>Count_places</th>\n",
              "      <th>Count_ss</th>\n",
              "      <th>count_flights</th>\n",
              "      <th>Year</th>\n",
              "      <th>Peak_months</th>\n",
              "      <th>Peak_days</th>\n",
              "      <th>duration</th>\n",
              "      <th>rating</th>\n",
              "    </tr>\n",
              "  </thead>\n",
              "  <tbody>\n",
              "    <tr>\n",
              "      <th>0</th>\n",
              "      <td>Best of Shimla and Manali Holiday from Delhi</td>\n",
              "      <td>Standard</td>\n",
              "      <td>Mumbai</td>\n",
              "      <td>2</td>\n",
              "      <td>3</td>\n",
              "      <td>11509.0</td>\n",
              "      <td>4</td>\n",
              "      <td>1</td>\n",
              "      <td>NaN</td>\n",
              "      <td>2021</td>\n",
              "      <td>Peak_month</td>\n",
              "      <td>Lean_days</td>\n",
              "      <td>6</td>\n",
              "      <td>4.100000</td>\n",
              "    </tr>\n",
              "    <tr>\n",
              "      <th>1</th>\n",
              "      <td>Kashmir Valley vacation</td>\n",
              "      <td>Premium</td>\n",
              "      <td>New Delhi</td>\n",
              "      <td>0</td>\n",
              "      <td>5</td>\n",
              "      <td>22485.5</td>\n",
              "      <td>3</td>\n",
              "      <td>7</td>\n",
              "      <td>NaN</td>\n",
              "      <td>2021</td>\n",
              "      <td>Lean_month</td>\n",
              "      <td>Peak_days</td>\n",
              "      <td>4</td>\n",
              "      <td>4.433333</td>\n",
              "    </tr>\n",
              "    <tr>\n",
              "      <th>2</th>\n",
              "      <td>Might of Mewar- Udaipur and Chittorgarh</td>\n",
              "      <td>Luxury</td>\n",
              "      <td>New Delhi</td>\n",
              "      <td>0</td>\n",
              "      <td>4</td>\n",
              "      <td>12421.5</td>\n",
              "      <td>2</td>\n",
              "      <td>8</td>\n",
              "      <td>NaN</td>\n",
              "      <td>2021</td>\n",
              "      <td>Peak_month</td>\n",
              "      <td>Lean_days</td>\n",
              "      <td>3</td>\n",
              "      <td>4.400000</td>\n",
              "    </tr>\n",
              "    <tr>\n",
              "      <th>3</th>\n",
              "      <td>Colorful Kerala ( Romantic Getaway )</td>\n",
              "      <td>Premium</td>\n",
              "      <td>New Delhi</td>\n",
              "      <td>0</td>\n",
              "      <td>5</td>\n",
              "      <td>35967.0</td>\n",
              "      <td>4</td>\n",
              "      <td>9</td>\n",
              "      <td>NaN</td>\n",
              "      <td>2021</td>\n",
              "      <td>Lean_month</td>\n",
              "      <td>Peak_days</td>\n",
              "      <td>6</td>\n",
              "      <td>4.500000</td>\n",
              "    </tr>\n",
              "    <tr>\n",
              "      <th>4</th>\n",
              "      <td>A Week In Bangkok &amp; Pattaya</td>\n",
              "      <td>Premium</td>\n",
              "      <td>New Delhi</td>\n",
              "      <td>0</td>\n",
              "      <td>5</td>\n",
              "      <td>25584.0</td>\n",
              "      <td>2</td>\n",
              "      <td>2</td>\n",
              "      <td>NaN</td>\n",
              "      <td>2021</td>\n",
              "      <td>Lean_month</td>\n",
              "      <td>Lean_days</td>\n",
              "      <td>7</td>\n",
              "      <td>4.350000</td>\n",
              "    </tr>\n",
              "    <tr>\n",
              "      <th>...</th>\n",
              "      <td>...</td>\n",
              "      <td>...</td>\n",
              "      <td>...</td>\n",
              "      <td>...</td>\n",
              "      <td>...</td>\n",
              "      <td>...</td>\n",
              "      <td>...</td>\n",
              "      <td>...</td>\n",
              "      <td>...</td>\n",
              "      <td>...</td>\n",
              "      <td>...</td>\n",
              "      <td>...</td>\n",
              "      <td>...</td>\n",
              "      <td>...</td>\n",
              "    </tr>\n",
              "    <tr>\n",
              "      <th>29995</th>\n",
              "      <td>Trip to Kerala</td>\n",
              "      <td>Standard</td>\n",
              "      <td>New Delhi</td>\n",
              "      <td>2</td>\n",
              "      <td>3</td>\n",
              "      <td>NaN</td>\n",
              "      <td>3</td>\n",
              "      <td>10</td>\n",
              "      <td>NaN</td>\n",
              "      <td>2021</td>\n",
              "      <td>Lean_month</td>\n",
              "      <td>Peak_days</td>\n",
              "      <td>4</td>\n",
              "      <td>4.100000</td>\n",
              "    </tr>\n",
              "    <tr>\n",
              "      <th>29996</th>\n",
              "      <td>Magical Kashmir Holiday</td>\n",
              "      <td>Deluxe</td>\n",
              "      <td>Mumbai</td>\n",
              "      <td>1</td>\n",
              "      <td>3</td>\n",
              "      <td>NaN</td>\n",
              "      <td>4</td>\n",
              "      <td>12</td>\n",
              "      <td>NaN</td>\n",
              "      <td>2021</td>\n",
              "      <td>Lean_month</td>\n",
              "      <td>Peak_days</td>\n",
              "      <td>4</td>\n",
              "      <td>4.100000</td>\n",
              "    </tr>\n",
              "    <tr>\n",
              "      <th>29997</th>\n",
              "      <td>Holiday in Dharamshala and Dalhousie from Delhi</td>\n",
              "      <td>Luxury</td>\n",
              "      <td>Mumbai</td>\n",
              "      <td>0</td>\n",
              "      <td>4</td>\n",
              "      <td>NaN</td>\n",
              "      <td>2</td>\n",
              "      <td>12</td>\n",
              "      <td>NaN</td>\n",
              "      <td>2021</td>\n",
              "      <td>Lean_month</td>\n",
              "      <td>Peak_days</td>\n",
              "      <td>5</td>\n",
              "      <td>4.250000</td>\n",
              "    </tr>\n",
              "    <tr>\n",
              "      <th>29998</th>\n",
              "      <td>Colorful Rajasthan- Jaipur, Jodhpur, Jaisalmer...</td>\n",
              "      <td>Deluxe</td>\n",
              "      <td>New Delhi</td>\n",
              "      <td>1</td>\n",
              "      <td>3</td>\n",
              "      <td>NaN</td>\n",
              "      <td>4</td>\n",
              "      <td>11</td>\n",
              "      <td>NaN</td>\n",
              "      <td>2021</td>\n",
              "      <td>Lean_month</td>\n",
              "      <td>Peak_days</td>\n",
              "      <td>7</td>\n",
              "      <td>4.125000</td>\n",
              "    </tr>\n",
              "    <tr>\n",
              "      <th>29999</th>\n",
              "      <td>Short Trip to Shirdi for Darshan</td>\n",
              "      <td>Budget</td>\n",
              "      <td>New Delhi</td>\n",
              "      <td>2</td>\n",
              "      <td>2</td>\n",
              "      <td>NaN</td>\n",
              "      <td>1</td>\n",
              "      <td>1</td>\n",
              "      <td>NaN</td>\n",
              "      <td>2021</td>\n",
              "      <td>Lean_month</td>\n",
              "      <td>Peak_days</td>\n",
              "      <td>2</td>\n",
              "      <td>3.500000</td>\n",
              "    </tr>\n",
              "  </tbody>\n",
              "</table>\n",
              "<p>30000 rows × 14 columns</p>\n",
              "</div>\n",
              "    <div class=\"colab-df-buttons\">\n",
              "\n",
              "  <div class=\"colab-df-container\">\n",
              "    <button class=\"colab-df-convert\" onclick=\"convertToInteractive('df-2f077137-6034-409e-be34-38fde33753af')\"\n",
              "            title=\"Convert this dataframe to an interactive table.\"\n",
              "            style=\"display:none;\">\n",
              "\n",
              "  <svg xmlns=\"http://www.w3.org/2000/svg\" height=\"24px\" viewBox=\"0 -960 960 960\">\n",
              "    <path d=\"M120-120v-720h720v720H120Zm60-500h600v-160H180v160Zm220 220h160v-160H400v160Zm0 220h160v-160H400v160ZM180-400h160v-160H180v160Zm440 0h160v-160H620v160ZM180-180h160v-160H180v160Zm440 0h160v-160H620v160Z\"/>\n",
              "  </svg>\n",
              "    </button>\n",
              "\n",
              "  <style>\n",
              "    .colab-df-container {\n",
              "      display:flex;\n",
              "      gap: 12px;\n",
              "    }\n",
              "\n",
              "    .colab-df-convert {\n",
              "      background-color: #E8F0FE;\n",
              "      border: none;\n",
              "      border-radius: 50%;\n",
              "      cursor: pointer;\n",
              "      display: none;\n",
              "      fill: #1967D2;\n",
              "      height: 32px;\n",
              "      padding: 0 0 0 0;\n",
              "      width: 32px;\n",
              "    }\n",
              "\n",
              "    .colab-df-convert:hover {\n",
              "      background-color: #E2EBFA;\n",
              "      box-shadow: 0px 1px 2px rgba(60, 64, 67, 0.3), 0px 1px 3px 1px rgba(60, 64, 67, 0.15);\n",
              "      fill: #174EA6;\n",
              "    }\n",
              "\n",
              "    .colab-df-buttons div {\n",
              "      margin-bottom: 4px;\n",
              "    }\n",
              "\n",
              "    [theme=dark] .colab-df-convert {\n",
              "      background-color: #3B4455;\n",
              "      fill: #D2E3FC;\n",
              "    }\n",
              "\n",
              "    [theme=dark] .colab-df-convert:hover {\n",
              "      background-color: #434B5C;\n",
              "      box-shadow: 0px 1px 3px 1px rgba(0, 0, 0, 0.15);\n",
              "      filter: drop-shadow(0px 1px 2px rgba(0, 0, 0, 0.3));\n",
              "      fill: #FFFFFF;\n",
              "    }\n",
              "  </style>\n",
              "\n",
              "    <script>\n",
              "      const buttonEl =\n",
              "        document.querySelector('#df-2f077137-6034-409e-be34-38fde33753af button.colab-df-convert');\n",
              "      buttonEl.style.display =\n",
              "        google.colab.kernel.accessAllowed ? 'block' : 'none';\n",
              "\n",
              "      async function convertToInteractive(key) {\n",
              "        const element = document.querySelector('#df-2f077137-6034-409e-be34-38fde33753af');\n",
              "        const dataTable =\n",
              "          await google.colab.kernel.invokeFunction('convertToInteractive',\n",
              "                                                    [key], {});\n",
              "        if (!dataTable) return;\n",
              "\n",
              "        const docLinkHtml = 'Like what you see? Visit the ' +\n",
              "          '<a target=\"_blank\" href=https://colab.research.google.com/notebooks/data_table.ipynb>data table notebook</a>'\n",
              "          + ' to learn more about interactive tables.';\n",
              "        element.innerHTML = '';\n",
              "        dataTable['output_type'] = 'display_data';\n",
              "        await google.colab.output.renderOutput(dataTable, element);\n",
              "        const docLink = document.createElement('div');\n",
              "        docLink.innerHTML = docLinkHtml;\n",
              "        element.appendChild(docLink);\n",
              "      }\n",
              "    </script>\n",
              "  </div>\n",
              "\n",
              "\n",
              "<div id=\"df-c068bda6-b02d-411a-8b6b-e5bdc4b1a154\">\n",
              "  <button class=\"colab-df-quickchart\" onclick=\"quickchart('df-c068bda6-b02d-411a-8b6b-e5bdc4b1a154')\"\n",
              "            title=\"Suggest charts\"\n",
              "            style=\"display:none;\">\n",
              "\n",
              "<svg xmlns=\"http://www.w3.org/2000/svg\" height=\"24px\"viewBox=\"0 0 24 24\"\n",
              "     width=\"24px\">\n",
              "    <g>\n",
              "        <path d=\"M19 3H5c-1.1 0-2 .9-2 2v14c0 1.1.9 2 2 2h14c1.1 0 2-.9 2-2V5c0-1.1-.9-2-2-2zM9 17H7v-7h2v7zm4 0h-2V7h2v10zm4 0h-2v-4h2v4z\"/>\n",
              "    </g>\n",
              "</svg>\n",
              "  </button>\n",
              "\n",
              "<style>\n",
              "  .colab-df-quickchart {\n",
              "      --bg-color: #E8F0FE;\n",
              "      --fill-color: #1967D2;\n",
              "      --hover-bg-color: #E2EBFA;\n",
              "      --hover-fill-color: #174EA6;\n",
              "      --disabled-fill-color: #AAA;\n",
              "      --disabled-bg-color: #DDD;\n",
              "  }\n",
              "\n",
              "  [theme=dark] .colab-df-quickchart {\n",
              "      --bg-color: #3B4455;\n",
              "      --fill-color: #D2E3FC;\n",
              "      --hover-bg-color: #434B5C;\n",
              "      --hover-fill-color: #FFFFFF;\n",
              "      --disabled-bg-color: #3B4455;\n",
              "      --disabled-fill-color: #666;\n",
              "  }\n",
              "\n",
              "  .colab-df-quickchart {\n",
              "    background-color: var(--bg-color);\n",
              "    border: none;\n",
              "    border-radius: 50%;\n",
              "    cursor: pointer;\n",
              "    display: none;\n",
              "    fill: var(--fill-color);\n",
              "    height: 32px;\n",
              "    padding: 0;\n",
              "    width: 32px;\n",
              "  }\n",
              "\n",
              "  .colab-df-quickchart:hover {\n",
              "    background-color: var(--hover-bg-color);\n",
              "    box-shadow: 0 1px 2px rgba(60, 64, 67, 0.3), 0 1px 3px 1px rgba(60, 64, 67, 0.15);\n",
              "    fill: var(--button-hover-fill-color);\n",
              "  }\n",
              "\n",
              "  .colab-df-quickchart-complete:disabled,\n",
              "  .colab-df-quickchart-complete:disabled:hover {\n",
              "    background-color: var(--disabled-bg-color);\n",
              "    fill: var(--disabled-fill-color);\n",
              "    box-shadow: none;\n",
              "  }\n",
              "\n",
              "  .colab-df-spinner {\n",
              "    border: 2px solid var(--fill-color);\n",
              "    border-color: transparent;\n",
              "    border-bottom-color: var(--fill-color);\n",
              "    animation:\n",
              "      spin 1s steps(1) infinite;\n",
              "  }\n",
              "\n",
              "  @keyframes spin {\n",
              "    0% {\n",
              "      border-color: transparent;\n",
              "      border-bottom-color: var(--fill-color);\n",
              "      border-left-color: var(--fill-color);\n",
              "    }\n",
              "    20% {\n",
              "      border-color: transparent;\n",
              "      border-left-color: var(--fill-color);\n",
              "      border-top-color: var(--fill-color);\n",
              "    }\n",
              "    30% {\n",
              "      border-color: transparent;\n",
              "      border-left-color: var(--fill-color);\n",
              "      border-top-color: var(--fill-color);\n",
              "      border-right-color: var(--fill-color);\n",
              "    }\n",
              "    40% {\n",
              "      border-color: transparent;\n",
              "      border-right-color: var(--fill-color);\n",
              "      border-top-color: var(--fill-color);\n",
              "    }\n",
              "    60% {\n",
              "      border-color: transparent;\n",
              "      border-right-color: var(--fill-color);\n",
              "    }\n",
              "    80% {\n",
              "      border-color: transparent;\n",
              "      border-right-color: var(--fill-color);\n",
              "      border-bottom-color: var(--fill-color);\n",
              "    }\n",
              "    90% {\n",
              "      border-color: transparent;\n",
              "      border-bottom-color: var(--fill-color);\n",
              "    }\n",
              "  }\n",
              "</style>\n",
              "\n",
              "  <script>\n",
              "    async function quickchart(key) {\n",
              "      const quickchartButtonEl =\n",
              "        document.querySelector('#' + key + ' button');\n",
              "      quickchartButtonEl.disabled = true;  // To prevent multiple clicks.\n",
              "      quickchartButtonEl.classList.add('colab-df-spinner');\n",
              "      try {\n",
              "        const charts = await google.colab.kernel.invokeFunction(\n",
              "            'suggestCharts', [key], {});\n",
              "      } catch (error) {\n",
              "        console.error('Error during call to suggestCharts:', error);\n",
              "      }\n",
              "      quickchartButtonEl.classList.remove('colab-df-spinner');\n",
              "      quickchartButtonEl.classList.add('colab-df-quickchart-complete');\n",
              "    }\n",
              "    (() => {\n",
              "      let quickchartButtonEl =\n",
              "        document.querySelector('#df-c068bda6-b02d-411a-8b6b-e5bdc4b1a154 button');\n",
              "      quickchartButtonEl.style.display =\n",
              "        google.colab.kernel.accessAllowed ? 'block' : 'none';\n",
              "    })();\n",
              "  </script>\n",
              "</div>\n",
              "\n",
              "  <div id=\"id_70f87552-b983-4dc0-bc07-d7229f147513\">\n",
              "    <style>\n",
              "      .colab-df-generate {\n",
              "        background-color: #E8F0FE;\n",
              "        border: none;\n",
              "        border-radius: 50%;\n",
              "        cursor: pointer;\n",
              "        display: none;\n",
              "        fill: #1967D2;\n",
              "        height: 32px;\n",
              "        padding: 0 0 0 0;\n",
              "        width: 32px;\n",
              "      }\n",
              "\n",
              "      .colab-df-generate:hover {\n",
              "        background-color: #E2EBFA;\n",
              "        box-shadow: 0px 1px 2px rgba(60, 64, 67, 0.3), 0px 1px 3px 1px rgba(60, 64, 67, 0.15);\n",
              "        fill: #174EA6;\n",
              "      }\n",
              "\n",
              "      [theme=dark] .colab-df-generate {\n",
              "        background-color: #3B4455;\n",
              "        fill: #D2E3FC;\n",
              "      }\n",
              "\n",
              "      [theme=dark] .colab-df-generate:hover {\n",
              "        background-color: #434B5C;\n",
              "        box-shadow: 0px 1px 3px 1px rgba(0, 0, 0, 0.15);\n",
              "        filter: drop-shadow(0px 1px 2px rgba(0, 0, 0, 0.3));\n",
              "        fill: #FFFFFF;\n",
              "      }\n",
              "    </style>\n",
              "    <button class=\"colab-df-generate\" onclick=\"generateWithVariable('newdata')\"\n",
              "            title=\"Generate code using this dataframe.\"\n",
              "            style=\"display:none;\">\n",
              "\n",
              "  <svg xmlns=\"http://www.w3.org/2000/svg\" height=\"24px\"viewBox=\"0 0 24 24\"\n",
              "       width=\"24px\">\n",
              "    <path d=\"M7,19H8.4L18.45,9,17,7.55,7,17.6ZM5,21V16.75L18.45,3.32a2,2,0,0,1,2.83,0l1.4,1.43a1.91,1.91,0,0,1,.58,1.4,1.91,1.91,0,0,1-.58,1.4L9.25,21ZM18.45,9,17,7.55Zm-12,3A5.31,5.31,0,0,0,4.9,8.1,5.31,5.31,0,0,0,1,6.5,5.31,5.31,0,0,0,4.9,4.9,5.31,5.31,0,0,0,6.5,1,5.31,5.31,0,0,0,8.1,4.9,5.31,5.31,0,0,0,12,6.5,5.46,5.46,0,0,0,6.5,12Z\"/>\n",
              "  </svg>\n",
              "    </button>\n",
              "    <script>\n",
              "      (() => {\n",
              "      const buttonEl =\n",
              "        document.querySelector('#id_70f87552-b983-4dc0-bc07-d7229f147513 button.colab-df-generate');\n",
              "      buttonEl.style.display =\n",
              "        google.colab.kernel.accessAllowed ? 'block' : 'none';\n",
              "\n",
              "      buttonEl.onclick = () => {\n",
              "        google.colab.notebook.generateWithVariable('newdata');\n",
              "      }\n",
              "      })();\n",
              "    </script>\n",
              "  </div>\n",
              "\n",
              "    </div>\n",
              "  </div>\n"
            ],
            "application/vnd.google.colaboratory.intrinsic+json": {
              "type": "dataframe",
              "variable_name": "newdata",
              "repr_error": "Out of range float values are not JSON compliant: nan"
            }
          },
          "metadata": {},
          "execution_count": 65
        }
      ]
    },
    {
      "cell_type": "code",
      "source": [
        "newdata['Package Type'].unique()"
      ],
      "metadata": {
        "colab": {
          "base_uri": "https://localhost:8080/"
        },
        "id": "F8Qm72pgcSiq",
        "outputId": "ee8803c2-db08-4f61-e0e2-a3bee6c119bd"
      },
      "execution_count": 68,
      "outputs": [
        {
          "output_type": "execute_result",
          "data": {
            "text/plain": [
              "array(['Standard', 'Premium', 'Luxury', 'Deluxe', 'Budget'], dtype=object)"
            ]
          },
          "metadata": {},
          "execution_count": 68
        }
      ]
    },
    {
      "cell_type": "code",
      "source": [
        "newdata.groupby('Package Type')['Per Person Price'].describe()"
      ],
      "metadata": {
        "colab": {
          "base_uri": "https://localhost:8080/",
          "height": 237
        },
        "id": "36YyfwWkdb8V",
        "outputId": "1ee627d8-e847-47ac-f199-8e8875f6dc89"
      },
      "execution_count": 69,
      "outputs": [
        {
          "output_type": "execute_result",
          "data": {
            "text/plain": [
              "               count          mean           std     min        25%       50%  \\\n",
              "Package Type                                                                    \n",
              "Budget         466.0  14151.447425   8236.467588  1757.0   8901.250  13114.25   \n",
              "Deluxe        6006.0  18409.508825  10228.326587  1198.0  12119.000  16426.75   \n",
              "Luxury        3278.0  23679.556437  11958.923869  2963.0  15471.625  22222.50   \n",
              "Premium       5581.0  23965.407006  13272.618593  2967.0  15232.000  21767.50   \n",
              "Standard      5669.0  16354.089081   9363.498521   791.0  10563.500  14729.50   \n",
              "\n",
              "                   75%       max  \n",
              "Package Type                      \n",
              "Budget        17927.00   64008.5  \n",
              "Deluxe        22774.25  171062.5  \n",
              "Luxury        29170.75  107850.0  \n",
              "Premium       29188.00  170763.0  \n",
              "Standard      19972.00  153795.0  "
            ],
            "text/html": [
              "\n",
              "  <div id=\"df-76b8cd24-69d4-48ab-a242-3660c8ae8852\" class=\"colab-df-container\">\n",
              "    <div>\n",
              "<style scoped>\n",
              "    .dataframe tbody tr th:only-of-type {\n",
              "        vertical-align: middle;\n",
              "    }\n",
              "\n",
              "    .dataframe tbody tr th {\n",
              "        vertical-align: top;\n",
              "    }\n",
              "\n",
              "    .dataframe thead th {\n",
              "        text-align: right;\n",
              "    }\n",
              "</style>\n",
              "<table border=\"1\" class=\"dataframe\">\n",
              "  <thead>\n",
              "    <tr style=\"text-align: right;\">\n",
              "      <th></th>\n",
              "      <th>count</th>\n",
              "      <th>mean</th>\n",
              "      <th>std</th>\n",
              "      <th>min</th>\n",
              "      <th>25%</th>\n",
              "      <th>50%</th>\n",
              "      <th>75%</th>\n",
              "      <th>max</th>\n",
              "    </tr>\n",
              "    <tr>\n",
              "      <th>Package Type</th>\n",
              "      <th></th>\n",
              "      <th></th>\n",
              "      <th></th>\n",
              "      <th></th>\n",
              "      <th></th>\n",
              "      <th></th>\n",
              "      <th></th>\n",
              "      <th></th>\n",
              "    </tr>\n",
              "  </thead>\n",
              "  <tbody>\n",
              "    <tr>\n",
              "      <th>Budget</th>\n",
              "      <td>466.0</td>\n",
              "      <td>14151.447425</td>\n",
              "      <td>8236.467588</td>\n",
              "      <td>1757.0</td>\n",
              "      <td>8901.250</td>\n",
              "      <td>13114.25</td>\n",
              "      <td>17927.00</td>\n",
              "      <td>64008.5</td>\n",
              "    </tr>\n",
              "    <tr>\n",
              "      <th>Deluxe</th>\n",
              "      <td>6006.0</td>\n",
              "      <td>18409.508825</td>\n",
              "      <td>10228.326587</td>\n",
              "      <td>1198.0</td>\n",
              "      <td>12119.000</td>\n",
              "      <td>16426.75</td>\n",
              "      <td>22774.25</td>\n",
              "      <td>171062.5</td>\n",
              "    </tr>\n",
              "    <tr>\n",
              "      <th>Luxury</th>\n",
              "      <td>3278.0</td>\n",
              "      <td>23679.556437</td>\n",
              "      <td>11958.923869</td>\n",
              "      <td>2963.0</td>\n",
              "      <td>15471.625</td>\n",
              "      <td>22222.50</td>\n",
              "      <td>29170.75</td>\n",
              "      <td>107850.0</td>\n",
              "    </tr>\n",
              "    <tr>\n",
              "      <th>Premium</th>\n",
              "      <td>5581.0</td>\n",
              "      <td>23965.407006</td>\n",
              "      <td>13272.618593</td>\n",
              "      <td>2967.0</td>\n",
              "      <td>15232.000</td>\n",
              "      <td>21767.50</td>\n",
              "      <td>29188.00</td>\n",
              "      <td>170763.0</td>\n",
              "    </tr>\n",
              "    <tr>\n",
              "      <th>Standard</th>\n",
              "      <td>5669.0</td>\n",
              "      <td>16354.089081</td>\n",
              "      <td>9363.498521</td>\n",
              "      <td>791.0</td>\n",
              "      <td>10563.500</td>\n",
              "      <td>14729.50</td>\n",
              "      <td>19972.00</td>\n",
              "      <td>153795.0</td>\n",
              "    </tr>\n",
              "  </tbody>\n",
              "</table>\n",
              "</div>\n",
              "    <div class=\"colab-df-buttons\">\n",
              "\n",
              "  <div class=\"colab-df-container\">\n",
              "    <button class=\"colab-df-convert\" onclick=\"convertToInteractive('df-76b8cd24-69d4-48ab-a242-3660c8ae8852')\"\n",
              "            title=\"Convert this dataframe to an interactive table.\"\n",
              "            style=\"display:none;\">\n",
              "\n",
              "  <svg xmlns=\"http://www.w3.org/2000/svg\" height=\"24px\" viewBox=\"0 -960 960 960\">\n",
              "    <path d=\"M120-120v-720h720v720H120Zm60-500h600v-160H180v160Zm220 220h160v-160H400v160Zm0 220h160v-160H400v160ZM180-400h160v-160H180v160Zm440 0h160v-160H620v160ZM180-180h160v-160H180v160Zm440 0h160v-160H620v160Z\"/>\n",
              "  </svg>\n",
              "    </button>\n",
              "\n",
              "  <style>\n",
              "    .colab-df-container {\n",
              "      display:flex;\n",
              "      gap: 12px;\n",
              "    }\n",
              "\n",
              "    .colab-df-convert {\n",
              "      background-color: #E8F0FE;\n",
              "      border: none;\n",
              "      border-radius: 50%;\n",
              "      cursor: pointer;\n",
              "      display: none;\n",
              "      fill: #1967D2;\n",
              "      height: 32px;\n",
              "      padding: 0 0 0 0;\n",
              "      width: 32px;\n",
              "    }\n",
              "\n",
              "    .colab-df-convert:hover {\n",
              "      background-color: #E2EBFA;\n",
              "      box-shadow: 0px 1px 2px rgba(60, 64, 67, 0.3), 0px 1px 3px 1px rgba(60, 64, 67, 0.15);\n",
              "      fill: #174EA6;\n",
              "    }\n",
              "\n",
              "    .colab-df-buttons div {\n",
              "      margin-bottom: 4px;\n",
              "    }\n",
              "\n",
              "    [theme=dark] .colab-df-convert {\n",
              "      background-color: #3B4455;\n",
              "      fill: #D2E3FC;\n",
              "    }\n",
              "\n",
              "    [theme=dark] .colab-df-convert:hover {\n",
              "      background-color: #434B5C;\n",
              "      box-shadow: 0px 1px 3px 1px rgba(0, 0, 0, 0.15);\n",
              "      filter: drop-shadow(0px 1px 2px rgba(0, 0, 0, 0.3));\n",
              "      fill: #FFFFFF;\n",
              "    }\n",
              "  </style>\n",
              "\n",
              "    <script>\n",
              "      const buttonEl =\n",
              "        document.querySelector('#df-76b8cd24-69d4-48ab-a242-3660c8ae8852 button.colab-df-convert');\n",
              "      buttonEl.style.display =\n",
              "        google.colab.kernel.accessAllowed ? 'block' : 'none';\n",
              "\n",
              "      async function convertToInteractive(key) {\n",
              "        const element = document.querySelector('#df-76b8cd24-69d4-48ab-a242-3660c8ae8852');\n",
              "        const dataTable =\n",
              "          await google.colab.kernel.invokeFunction('convertToInteractive',\n",
              "                                                    [key], {});\n",
              "        if (!dataTable) return;\n",
              "\n",
              "        const docLinkHtml = 'Like what you see? Visit the ' +\n",
              "          '<a target=\"_blank\" href=https://colab.research.google.com/notebooks/data_table.ipynb>data table notebook</a>'\n",
              "          + ' to learn more about interactive tables.';\n",
              "        element.innerHTML = '';\n",
              "        dataTable['output_type'] = 'display_data';\n",
              "        await google.colab.output.renderOutput(dataTable, element);\n",
              "        const docLink = document.createElement('div');\n",
              "        docLink.innerHTML = docLinkHtml;\n",
              "        element.appendChild(docLink);\n",
              "      }\n",
              "    </script>\n",
              "  </div>\n",
              "\n",
              "\n",
              "<div id=\"df-e950500c-0bf6-45d2-bb3c-55a4e625237e\">\n",
              "  <button class=\"colab-df-quickchart\" onclick=\"quickchart('df-e950500c-0bf6-45d2-bb3c-55a4e625237e')\"\n",
              "            title=\"Suggest charts\"\n",
              "            style=\"display:none;\">\n",
              "\n",
              "<svg xmlns=\"http://www.w3.org/2000/svg\" height=\"24px\"viewBox=\"0 0 24 24\"\n",
              "     width=\"24px\">\n",
              "    <g>\n",
              "        <path d=\"M19 3H5c-1.1 0-2 .9-2 2v14c0 1.1.9 2 2 2h14c1.1 0 2-.9 2-2V5c0-1.1-.9-2-2-2zM9 17H7v-7h2v7zm4 0h-2V7h2v10zm4 0h-2v-4h2v4z\"/>\n",
              "    </g>\n",
              "</svg>\n",
              "  </button>\n",
              "\n",
              "<style>\n",
              "  .colab-df-quickchart {\n",
              "      --bg-color: #E8F0FE;\n",
              "      --fill-color: #1967D2;\n",
              "      --hover-bg-color: #E2EBFA;\n",
              "      --hover-fill-color: #174EA6;\n",
              "      --disabled-fill-color: #AAA;\n",
              "      --disabled-bg-color: #DDD;\n",
              "  }\n",
              "\n",
              "  [theme=dark] .colab-df-quickchart {\n",
              "      --bg-color: #3B4455;\n",
              "      --fill-color: #D2E3FC;\n",
              "      --hover-bg-color: #434B5C;\n",
              "      --hover-fill-color: #FFFFFF;\n",
              "      --disabled-bg-color: #3B4455;\n",
              "      --disabled-fill-color: #666;\n",
              "  }\n",
              "\n",
              "  .colab-df-quickchart {\n",
              "    background-color: var(--bg-color);\n",
              "    border: none;\n",
              "    border-radius: 50%;\n",
              "    cursor: pointer;\n",
              "    display: none;\n",
              "    fill: var(--fill-color);\n",
              "    height: 32px;\n",
              "    padding: 0;\n",
              "    width: 32px;\n",
              "  }\n",
              "\n",
              "  .colab-df-quickchart:hover {\n",
              "    background-color: var(--hover-bg-color);\n",
              "    box-shadow: 0 1px 2px rgba(60, 64, 67, 0.3), 0 1px 3px 1px rgba(60, 64, 67, 0.15);\n",
              "    fill: var(--button-hover-fill-color);\n",
              "  }\n",
              "\n",
              "  .colab-df-quickchart-complete:disabled,\n",
              "  .colab-df-quickchart-complete:disabled:hover {\n",
              "    background-color: var(--disabled-bg-color);\n",
              "    fill: var(--disabled-fill-color);\n",
              "    box-shadow: none;\n",
              "  }\n",
              "\n",
              "  .colab-df-spinner {\n",
              "    border: 2px solid var(--fill-color);\n",
              "    border-color: transparent;\n",
              "    border-bottom-color: var(--fill-color);\n",
              "    animation:\n",
              "      spin 1s steps(1) infinite;\n",
              "  }\n",
              "\n",
              "  @keyframes spin {\n",
              "    0% {\n",
              "      border-color: transparent;\n",
              "      border-bottom-color: var(--fill-color);\n",
              "      border-left-color: var(--fill-color);\n",
              "    }\n",
              "    20% {\n",
              "      border-color: transparent;\n",
              "      border-left-color: var(--fill-color);\n",
              "      border-top-color: var(--fill-color);\n",
              "    }\n",
              "    30% {\n",
              "      border-color: transparent;\n",
              "      border-left-color: var(--fill-color);\n",
              "      border-top-color: var(--fill-color);\n",
              "      border-right-color: var(--fill-color);\n",
              "    }\n",
              "    40% {\n",
              "      border-color: transparent;\n",
              "      border-right-color: var(--fill-color);\n",
              "      border-top-color: var(--fill-color);\n",
              "    }\n",
              "    60% {\n",
              "      border-color: transparent;\n",
              "      border-right-color: var(--fill-color);\n",
              "    }\n",
              "    80% {\n",
              "      border-color: transparent;\n",
              "      border-right-color: var(--fill-color);\n",
              "      border-bottom-color: var(--fill-color);\n",
              "    }\n",
              "    90% {\n",
              "      border-color: transparent;\n",
              "      border-bottom-color: var(--fill-color);\n",
              "    }\n",
              "  }\n",
              "</style>\n",
              "\n",
              "  <script>\n",
              "    async function quickchart(key) {\n",
              "      const quickchartButtonEl =\n",
              "        document.querySelector('#' + key + ' button');\n",
              "      quickchartButtonEl.disabled = true;  // To prevent multiple clicks.\n",
              "      quickchartButtonEl.classList.add('colab-df-spinner');\n",
              "      try {\n",
              "        const charts = await google.colab.kernel.invokeFunction(\n",
              "            'suggestCharts', [key], {});\n",
              "      } catch (error) {\n",
              "        console.error('Error during call to suggestCharts:', error);\n",
              "      }\n",
              "      quickchartButtonEl.classList.remove('colab-df-spinner');\n",
              "      quickchartButtonEl.classList.add('colab-df-quickchart-complete');\n",
              "    }\n",
              "    (() => {\n",
              "      let quickchartButtonEl =\n",
              "        document.querySelector('#df-e950500c-0bf6-45d2-bb3c-55a4e625237e button');\n",
              "      quickchartButtonEl.style.display =\n",
              "        google.colab.kernel.accessAllowed ? 'block' : 'none';\n",
              "    })();\n",
              "  </script>\n",
              "</div>\n",
              "\n",
              "    </div>\n",
              "  </div>\n"
            ],
            "application/vnd.google.colaboratory.intrinsic+json": {
              "type": "dataframe",
              "summary": "{\n  \"name\": \"newdata\",\n  \"rows\": 5,\n  \"fields\": [\n    {\n      \"column\": \"Package Type\",\n      \"properties\": {\n        \"dtype\": \"string\",\n        \"num_unique_values\": 5,\n        \"samples\": [\n          \"Deluxe\",\n          \"Standard\",\n          \"Luxury\"\n        ],\n        \"semantic_type\": \"\",\n        \"description\": \"\"\n      }\n    },\n    {\n      \"column\": \"count\",\n      \"properties\": {\n        \"dtype\": \"number\",\n        \"std\": 2351.573834690291,\n        \"min\": 466.0,\n        \"max\": 6006.0,\n        \"num_unique_values\": 5,\n        \"samples\": [\n          6006.0,\n          5669.0,\n          3278.0\n        ],\n        \"semantic_type\": \"\",\n        \"description\": \"\"\n      }\n    },\n    {\n      \"column\": \"mean\",\n      \"properties\": {\n        \"dtype\": \"number\",\n        \"std\": 4385.338533083042,\n        \"min\": 14151.447424892704,\n        \"max\": 23965.40700591292,\n        \"num_unique_values\": 5,\n        \"samples\": [\n          18409.508824508823,\n          16354.089080966662,\n          23679.556436851737\n        ],\n        \"semantic_type\": \"\",\n        \"description\": \"\"\n      }\n    },\n    {\n      \"column\": \"std\",\n      \"properties\": {\n        \"dtype\": \"number\",\n        \"std\": 2015.0813052547153,\n        \"min\": 8236.467588177646,\n        \"max\": 13272.618592518269,\n        \"num_unique_values\": 5,\n        \"samples\": [\n          10228.326587490012,\n          9363.498521253601,\n          11958.92386875106\n        ],\n        \"semantic_type\": \"\",\n        \"description\": \"\"\n      }\n    },\n    {\n      \"column\": \"min\",\n      \"properties\": {\n        \"dtype\": \"number\",\n        \"std\": 1000.6743726107909,\n        \"min\": 791.0,\n        \"max\": 2967.0,\n        \"num_unique_values\": 5,\n        \"samples\": [\n          1198.0,\n          791.0,\n          2963.0\n        ],\n        \"semantic_type\": \"\",\n        \"description\": \"\"\n      }\n    },\n    {\n      \"column\": \"25%\",\n      \"properties\": {\n        \"dtype\": \"number\",\n        \"std\": 2877.9998295257074,\n        \"min\": 8901.25,\n        \"max\": 15471.625,\n        \"num_unique_values\": 5,\n        \"samples\": [\n          12119.0,\n          10563.5,\n          15471.625\n        ],\n        \"semantic_type\": \"\",\n        \"description\": \"\"\n      }\n    },\n    {\n      \"column\": \"50%\",\n      \"properties\": {\n        \"dtype\": \"number\",\n        \"std\": 4137.034847720043,\n        \"min\": 13114.25,\n        \"max\": 22222.5,\n        \"num_unique_values\": 5,\n        \"samples\": [\n          16426.75,\n          14729.5,\n          22222.5\n        ],\n        \"semantic_type\": \"\",\n        \"description\": \"\"\n      }\n    },\n    {\n      \"column\": \"75%\",\n      \"properties\": {\n        \"dtype\": \"number\",\n        \"std\": 5197.912341147165,\n        \"min\": 17927.0,\n        \"max\": 29188.0,\n        \"num_unique_values\": 5,\n        \"samples\": [\n          22774.25,\n          19972.0,\n          29170.75\n        ],\n        \"semantic_type\": \"\",\n        \"description\": \"\"\n      }\n    },\n    {\n      \"column\": \"max\",\n      \"properties\": {\n        \"dtype\": \"number\",\n        \"std\": 46632.474157769066,\n        \"min\": 64008.5,\n        \"max\": 171062.5,\n        \"num_unique_values\": 5,\n        \"samples\": [\n          171062.5,\n          153795.0,\n          107850.0\n        ],\n        \"semantic_type\": \"\",\n        \"description\": \"\"\n      }\n    }\n  ]\n}"
            }
          },
          "metadata": {},
          "execution_count": 69
        }
      ]
    },
    {
      "cell_type": "code",
      "source": [],
      "metadata": {
        "id": "tGVSN2vZdb4w"
      },
      "execution_count": null,
      "outputs": []
    },
    {
      "cell_type": "code",
      "source": [
        "package={'Budget':1,'Deluxe':5,'Luxury':2,'Premium':4,'Standard':3}\n",
        "newdata['Package Type']=newdata['Package Type'].map(package)"
      ],
      "metadata": {
        "id": "bGVx73Xpc0wV"
      },
      "execution_count": 70,
      "outputs": []
    },
    {
      "cell_type": "code",
      "source": [
        "# count of package type basis duration\n",
        "newdata['pkgtype_duration_count']=newdata.groupby('Package Type')['duration'].transform('count')\n",
        "newdata['pkgtype_duration_mean']=newdata.groupby('Package Type')['duration'].transform('mean')\n",
        "# count of package name basis duration\n",
        "newdata['pkgname_duration_count']=newdata.groupby('Package Name')['duration'].transform('count')\n",
        "\n"
      ],
      "metadata": {
        "id": "8ItxCblSeDKC"
      },
      "execution_count": 81,
      "outputs": []
    },
    {
      "cell_type": "code",
      "source": [
        "newdata.columns"
      ],
      "metadata": {
        "colab": {
          "base_uri": "https://localhost:8080/"
        },
        "id": "akQ617Z6iI68",
        "outputId": "46093bf4-09f8-48dc-c3bf-ed536ad14234"
      },
      "execution_count": 82,
      "outputs": [
        {
          "output_type": "execute_result",
          "data": {
            "text/plain": [
              "Index(['Package Name', 'Package Type', 'Start City', 'Flight Stops', 'Meals',\n",
              "       'Per Person Price', 'Count_places', 'Count_ss', 'count_flights', 'Year',\n",
              "       'Peak_months', 'Peak_days', 'duration', 'rating',\n",
              "       'pkgtype_duration_count', 'pkgtype_duration_mean',\n",
              "       'pkgname_duration_count'],\n",
              "      dtype='object')"
            ]
          },
          "metadata": {},
          "execution_count": 82
        }
      ]
    },
    {
      "cell_type": "code",
      "source": [
        "newdata.drop(['Package Name','Start City','Package Type'], axis= 1,inplace=True)"
      ],
      "metadata": {
        "id": "KwOsUd9gebjq"
      },
      "execution_count": 86,
      "outputs": []
    },
    {
      "cell_type": "code",
      "source": [
        "newdata['year']=newdata.Year.astype('object')"
      ],
      "metadata": {
        "id": "5ZKMBdp_igpQ"
      },
      "execution_count": 96,
      "outputs": []
    },
    {
      "cell_type": "code",
      "source": [
        "# categorical encoding\n",
        "dummydata=pd.get_dummies(newdata,drop_first=True)\n",
        "# split the data in train and test\n",
        "newtrain=dummydata.loc[0:train.shape[0]-1,:]\n",
        "newtest=dummydata.loc[train.shape[0]:,:]\n",
        "train.shape,test.shape,newtrain.shape,newtest.shape"
      ],
      "metadata": {
        "colab": {
          "base_uri": "https://localhost:8080/"
        },
        "id": "pJ1HUr2CivS-",
        "outputId": "af952792-0dbe-413d-d207-507f9354bc28"
      },
      "execution_count": 99,
      "outputs": [
        {
          "output_type": "execute_result",
          "data": {
            "text/plain": [
              "((21000, 15), (9000, 14), (21000, 14), (9000, 14))"
            ]
          },
          "metadata": {},
          "execution_count": 99
        }
      ]
    },
    {
      "cell_type": "code",
      "source": [
        "dummydata.info()"
      ],
      "metadata": {
        "colab": {
          "base_uri": "https://localhost:8080/"
        },
        "id": "MYM2bBg8jkpp",
        "outputId": "99e0695f-4991-459c-cda0-43b377c6593b"
      },
      "execution_count": 100,
      "outputs": [
        {
          "output_type": "stream",
          "name": "stdout",
          "text": [
            "<class 'pandas.core.frame.DataFrame'>\n",
            "RangeIndex: 30000 entries, 0 to 29999\n",
            "Data columns (total 14 columns):\n",
            " #   Column                  Non-Null Count  Dtype  \n",
            "---  ------                  --------------  -----  \n",
            " 0   Flight Stops            30000 non-null  int64  \n",
            " 1   Meals                   30000 non-null  int64  \n",
            " 2   Per Person Price        21000 non-null  float64\n",
            " 3   Count_places            30000 non-null  int64  \n",
            " 4   Count_ss                30000 non-null  int64  \n",
            " 5   Year                    30000 non-null  int32  \n",
            " 6   duration                30000 non-null  int64  \n",
            " 7   rating                  30000 non-null  float64\n",
            " 8   pkgtype_duration_count  30000 non-null  int64  \n",
            " 9   pkgtype_duration_mean   30000 non-null  float64\n",
            " 10  pkgname_duration_count  30000 non-null  int64  \n",
            " 11  Peak_months_Peak_month  30000 non-null  bool   \n",
            " 12  Peak_days_Peak_days     30000 non-null  bool   \n",
            " 13  year_2022               30000 non-null  bool   \n",
            "dtypes: bool(3), float64(3), int32(1), int64(7)\n",
            "memory usage: 2.5 MB\n"
          ]
        }
      ]
    },
    {
      "cell_type": "code",
      "source": [
        "newtest.drop('Per Person Price',axis=1,inplace=True)"
      ],
      "metadata": {
        "id": "JsxX2u4LkUo7"
      },
      "execution_count": 101,
      "outputs": []
    },
    {
      "cell_type": "code",
      "source": [
        "from sklearn.ensemble import GradientBoostingRegressor\n",
        "x=newtrain.drop('Per Person Price',axis=1)\n",
        "y=newtrain['Per Person Price']\n",
        "\n",
        "gbm=GradientBoostingRegressor()\n",
        "pred_gbm=gbm.fit(x,y).predict(newtest)"
      ],
      "metadata": {
        "id": "E2TLyUmllNRB"
      },
      "execution_count": 102,
      "outputs": []
    },
    {
      "cell_type": "code",
      "source": [
        "submission=pd.DataFrame({'Per Person Price':pred_gbm})\n",
        "submission.to_csv('submission.csv',index=False)"
      ],
      "metadata": {
        "id": "UPTKXpkQllnV"
      },
      "execution_count": 103,
      "outputs": []
    },
    {
      "cell_type": "code",
      "source": [],
      "metadata": {
        "id": "fbNfyx8mmQav"
      },
      "execution_count": null,
      "outputs": []
    }
  ]
}